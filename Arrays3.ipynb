{
 "cells": [
  {
   "attachments": {},
   "cell_type": "markdown",
   "id": "09801ff1",
   "metadata": {},
   "source": [
    "# Assignment Questions 3"
   ]
  },
  {
   "attachments": {},
   "cell_type": "markdown",
   "id": "466e8700",
   "metadata": {},
   "source": [
    "<aside> \n",
    "\n",
    "**Question 1**\n",
    "\n",
    "Given an integer array nums of length n and an integer target, find three integers\n",
    "in nums such that the sum is closest to the target.\n",
    "Return the sum of the three integers.\n",
    "\n",
    "You may assume that each input would have exactly one solution.\n",
    "\n",
    "**Example 1:**\n",
    "\n",
    "Input: nums = [-1,2,1,-4], target = 1\n",
    "\n",
    "Output: 2\n",
    "\n",
    "**Explanation:** The sum that is closest to the target is 2. (-1 + 2 + 1 = 2).\n",
    "\n",
    "</aside>"
   ]
  },
  {
   "cell_type": "code",
   "execution_count": 6,
   "id": "7d9d7ff9",
   "metadata": {},
   "outputs": [
    {
     "data": {
      "text/plain": [
       "2"
      ]
     },
     "execution_count": 6,
     "metadata": {},
     "output_type": "execute_result"
    }
   ],
   "source": [
    "from typing import List\n",
    "\n",
    "class Solution:\n",
    "    def threeSumClosest(self, nums: List[int], target: int) -> int:\n",
    "\n",
    "        n=len(nums)\n",
    "        nums.sort()\n",
    "        diff=abs(n-target)\n",
    "        # diff=20001\n",
    "        val=0\n",
    "        for i in range(n):\n",
    "            a=i+1\n",
    "            b=n-1\n",
    "            while(a<b):\n",
    "                cc=nums[i]+nums[a]+nums[b]\n",
    "                kk=abs(cc-target)\n",
    "                if(kk<diff):\n",
    "                    diff=kk\n",
    "                    val=cc\n",
    "                if(cc==target):\n",
    "                    return target\n",
    "                elif(cc<target):\n",
    "                    a+=1\n",
    "                else:\n",
    "                    b-=1\n",
    "            \n",
    "        return val\n",
    "\n",
    "\n",
    "nums = [-1,2,1,-4] \n",
    "target = 1\n",
    "\n",
    "ob = Solution()\n",
    "ob.threeSumClosest(nums, target)"
   ]
  },
  {
   "attachments": {},
   "cell_type": "markdown",
   "id": "e72db55c",
   "metadata": {},
   "source": [
    "<aside> \n",
    "\n",
    "**Question 2**\n",
    "\n",
    "Given an array nums of n integers, return an array of all the unique quadruplets\n",
    "[nums[a], nums[b], nums[c], nums[d]] such that:\n",
    "           ● 0 <= a, b, c, d < n\n",
    "           ● a, b, c, and d are distinct.\n",
    "           ● nums[a] + nums[b] + nums[c] + nums[d] == target\n",
    "\n",
    "You may return the answer in any order.\n",
    "\n",
    "**Example 1:**\n",
    "\n",
    "Input: nums = [1,0,-1,0,-2,2], target = 0\n",
    "\n",
    "Output: [[-2,-1,1,2],[-2,0,0,2],[-1,0,0,1]]\n",
    "\n",
    "</aside>"
   ]
  },
  {
   "cell_type": "code",
   "execution_count": 3,
   "id": "2cdf8e61",
   "metadata": {},
   "outputs": [
    {
     "name": "stdout",
     "output_type": "stream",
     "text": [
      "{(-2, -1, 1, 2), (-1, 0, 0, 1), (-2, 0, 0, 2)}\n"
     ]
    }
   ],
   "source": [
    "from typing import List\n",
    "\n",
    "class Solution:\n",
    "    def fourSum(self, nums: List[int], target: int) -> List[List[int]]:\n",
    "        ans = set()\n",
    "        nums.sort()\n",
    "        for i in range(len(nums)):\n",
    "            for j in range(i+1,len(nums)):\n",
    "                k,l = j+1,len(nums)-1\n",
    "                while k<l:\n",
    "                    s = nums[i]+nums[j]+nums[k]+nums[l]\n",
    "                    if s == target:\n",
    "                        ans.add((nums[i],nums[j],nums[k],nums[l]))\n",
    "                        l-=1\n",
    "                        k+=1\n",
    "                    elif s > target:\n",
    "                        l-=1\n",
    "                    else:\n",
    "                        k+=1\n",
    "                  \n",
    "        return ans\n",
    "                    \n",
    "\n",
    "nums = [1,0,-1,0,-2,2]\n",
    "target = 0\n",
    "\n",
    "ob = Solution()\n",
    "print(ob.fourSum(nums, target))"
   ]
  },
  {
   "attachments": {},
   "cell_type": "markdown",
   "id": "4c4d4bb7",
   "metadata": {},
   "source": [
    "<aside> \n",
    "\n",
    "**Question 3**\n",
    "\n",
    "A permutation of an array of integers is an arrangement of its members into a\n",
    "sequence or linear order.\n",
    "\n",
    "For example, for arr = [1,2,3], the following are all the permutations of arr:\n",
    "[1,2,3], [1,3,2], [2, 1, 3], [2, 3, 1], [3,1,2], [3,2,1].\n",
    "\n",
    "The next permutation of an array of integers is the next lexicographically greater\n",
    "permutation of its integer. More formally, if all the permutations of the array are\n",
    "sorted in one container according to their lexicographical order, then the next\n",
    "permutation of that array is the permutation that follows it in the sorted container.\n",
    "\n",
    "If such an arrangement is not possible, the array must be rearranged as the\n",
    "lowest possible order (i.e., sorted in ascending order).\n",
    "\n",
    "● For example, the next permutation of arr = [1,2,3] is [1,3,2].\n",
    "\n",
    "● Similarly, the next permutation of arr = [2,3,1] is [3,1,2].\n",
    "\n",
    "● While the next permutation of arr = [3,2,1] is [1,2,3] because [3,2,1] does not\n",
    "have a lexicographical larger rearrangement.\n",
    "\n",
    "Given an array of integers nums, find the next permutation of nums.\n",
    "The replacement must be in place and use only constant extra memory.\n",
    "\n",
    "**Example 1:**\n",
    "\n",
    "Input: nums = [1,2,3]\n",
    "\n",
    "Output: [1,3,2]\n",
    "\n",
    "\n",
    "</aside>"
   ]
  },
  {
   "cell_type": "code",
   "execution_count": 8,
   "id": "8656cf8d",
   "metadata": {},
   "outputs": [
    {
     "name": "stdout",
     "output_type": "stream",
     "text": [
      "[1, 3, 2]\n"
     ]
    }
   ],
   "source": [
    "class Solution:\n",
    "    def reverse(self, nums, start, stop):\n",
    "        size = stop + start\n",
    "        for i in range(start, (size + 1) // 2):\n",
    "            nums[i], nums[size - i] = nums[size - i], nums[i]\n",
    "    \n",
    "    def nextPermutation(self, nums: List[int]) -> None:\n",
    "        ind = -1\n",
    "        # find breakpoint from back\n",
    "        for i in range(len(nums)-2, -1, -1):\n",
    "            if nums[i] < nums[i+1]:\n",
    "                ind = i     # breakpoint found\n",
    "                break\n",
    "        if ind == -1:   # no breakpoint found\n",
    "            nums.reverse()  # in-place\n",
    "            # nums[:] = nums[::-1] # also works but is not in-place\n",
    "        else:\n",
    "            for i in range(len(nums)-1, ind, -1):\n",
    "                if nums[i] > nums[ind]:\n",
    "                    nums[i], nums[ind] = nums[ind], nums[i]\n",
    "                    break\n",
    "            \n",
    "            # reverse list elements on the right of breakpoint\n",
    "            self.reverse(nums, ind+1, len(nums)-1) # in-place\n",
    "            # nums[ind+1:] = nums[ind+1:][::-1] # also works but is not in-place\n",
    "\n",
    "nums = [1,2,3]\n",
    "ob = Solution()\n",
    "ob.nextPermutation(nums)\n",
    "print(nums)"
   ]
  },
  {
   "attachments": {},
   "cell_type": "markdown",
   "id": "620192a8",
   "metadata": {},
   "source": [
    "<aside> \n",
    "\n",
    "**Question 4**\n",
    "\n",
    "Given a sorted array of distinct integers and a target value, return the index if the\n",
    "target is found. If not, return the index where it would be if it were inserted in\n",
    "order.\n",
    "\n",
    "You must write an algorithm with O(log n) runtime complexity.\n",
    "\n",
    "**Example 1:**\n",
    "\n",
    "Input: nums = [1,3,5,6], target = 5\n",
    "\n",
    "Output: 2\n",
    "\n",
    "</aside>"
   ]
  },
  {
   "cell_type": "code",
   "execution_count": 9,
   "id": "c1629dad",
   "metadata": {},
   "outputs": [
    {
     "data": {
      "text/plain": [
       "2"
      ]
     },
     "execution_count": 9,
     "metadata": {},
     "output_type": "execute_result"
    }
   ],
   "source": [
    "class Solution:\n",
    "    def searchInsert(self, nums: List[int], target: int) -> int:\n",
    "        left,right=0,len(nums)-1\n",
    "        while left<=right:\n",
    "            mid=(left+right)//2\n",
    "            if nums[mid]==target:\n",
    "                return mid\n",
    "            elif nums[mid]<target:\n",
    "                left=mid+1\n",
    "            else:\n",
    "                right=mid-1\n",
    "        return left\n",
    "\n",
    "nums = [1,3,5,6]\n",
    "target = 5\n",
    "ob = Solution()\n",
    "ob.searchInsert(nums, target)"
   ]
  },
  {
   "attachments": {},
   "cell_type": "markdown",
   "id": "c2f70254",
   "metadata": {},
   "source": [
    "<aside> \n",
    "\n",
    "**Question 5**\n",
    "\n",
    "You are given a large integer represented as an integer array digits, where each\n",
    "digits[i] is the ith digit of the integer. The digits are ordered from most significant\n",
    "to least significant in left-to-right order. The large integer does not contain any\n",
    "leading 0's.\n",
    "\n",
    "Increment the large integer by one and return the resulting array of digits.\n",
    "\n",
    "**Example 1:**\n",
    "\n",
    "Input: digits = [1,2,3]\n",
    "\n",
    "Output: [1,2,4]\n",
    "\n",
    "**Explanation:** \n",
    "\n",
    "The array represents the integer 123.\n",
    "Incrementing by one gives 123 + 1 = 124.\n",
    "Thus, the result should be [1,2,4].\n",
    "\n",
    "</aside>"
   ]
  },
  {
   "cell_type": "code",
   "execution_count": 10,
   "id": "80042d91",
   "metadata": {},
   "outputs": [
    {
     "data": {
      "text/plain": [
       "[1, 2, 4]"
      ]
     },
     "execution_count": 10,
     "metadata": {},
     "output_type": "execute_result"
    }
   ],
   "source": [
    "class Solution:\n",
    "    def plusOne(self, digits: List[int]) -> List[int]:\n",
    "        carry = 0\n",
    "        n = len(digits)\n",
    "        for i in reversed(range(n)):\n",
    "            val = digits[i] + carry + 1 if i == n-1 else digits[i] + carry\n",
    "            if val <= 9:\n",
    "                digits[i] = val\n",
    "                carry = 0\n",
    "            else:\n",
    "                carry = val // 10\n",
    "                val -= 10\n",
    "                digits[i] = val\n",
    "        if carry:\n",
    "            digits.insert(0, carry)\n",
    "        return digits\n",
    "\n",
    "digits = [1,2,3]\n",
    "ob = Solution()\n",
    "ob.plusOne(digits)"
   ]
  },
  {
   "attachments": {},
   "cell_type": "markdown",
   "id": "cbfb8569",
   "metadata": {},
   "source": [
    "<aside> \n",
    "\n",
    "**Question 6**\n",
    "\n",
    "Given a non-empty array of integers nums, every element appears twice except\n",
    "for one. Find that single one.\n",
    "\n",
    "You must implement a solution with a linear runtime complexity and use only\n",
    "constant extra space.\n",
    "\n",
    "**Example 1:**\n",
    "\n",
    "Input: nums = [2,2,1]\n",
    "\n",
    "Output: 1\n",
    "\n",
    "</aside>"
   ]
  },
  {
   "cell_type": "code",
   "execution_count": 14,
   "id": "4f0a8282",
   "metadata": {},
   "outputs": [
    {
     "name": "stdout",
     "output_type": "stream",
     "text": [
      "Element occurring once is 1\n"
     ]
    }
   ],
   "source": [
    "def findSingle(A, ar_size):\n",
    "    \n",
    "    for i in range(ar_size):\n",
    "        count = 0\n",
    "        for j in range(ar_size):\n",
    "            # Count the frequency\n",
    "            # of the element\n",
    "            if(A[i] == A[j]):\n",
    "                count += 1\n",
    "  \n",
    "        # If the frequency of\n",
    "        # the element is one\n",
    "        if(count == 1):\n",
    "            return A[i]\n",
    "            \n",
    "    # If no element exist\n",
    "    # at most once\n",
    "    return -1\n",
    "  \n",
    "ar = [2,2,1]\n",
    "\n",
    "n = len(ar)\n",
    "\n",
    "print(\"Element occurring once is\", findSingle(ar, n))\n"
   ]
  },
  {
   "attachments": {},
   "cell_type": "markdown",
   "id": "5afc2eef",
   "metadata": {},
   "source": [
    "<aside> \n",
    "\n",
    "**Question 7**\n",
    "\n",
    "You are given an inclusive range [lower, upper] and a sorted unique integer array\n",
    "nums, where all elements are within the inclusive range.\n",
    "\n",
    "A number x is considered missing if x is in the range [lower, upper] and x is not in\n",
    "nums.\n",
    "\n",
    "Return the shortest sorted list of ranges that exactly covers all the missing\n",
    "numbers. That is, no element of nums is included in any of the ranges, and each\n",
    "missing number is covered by one of the ranges.\n",
    "\n",
    "**Example 1:**\n",
    "\n",
    "Input: nums = [0,1,3,50,75], lower = 0, upper = 99\n",
    "Output: [[2,2],[4,49],[51,74],[76,99]]\n",
    "\n",
    "**Explanation:** \n",
    "\n",
    "The ranges are:\n",
    "[2,2]\n",
    "[4,49]\n",
    "[51,74]\n",
    "[76,99]\n",
    "\n",
    "</aside>"
   ]
  },
  {
   "cell_type": "code",
   "execution_count": 32,
   "id": "6bad9df5",
   "metadata": {},
   "outputs": [
    {
     "data": {
      "text/plain": [
       "[[2, 2], [4, 49], [51, 74], [76, 99]]"
      ]
     },
     "execution_count": 32,
     "metadata": {},
     "output_type": "execute_result"
    }
   ],
   "source": [
    "from itertools import pairwise\n",
    "\n",
    "class Solution:\n",
    "    def findMissingRanges(self, nums: List[int], lower: int, upper: int) -> List[str]:\n",
    "    \n",
    "        def f(a, b):\n",
    "            return [a,b]\n",
    "            # return str(a) if a == b else f'{a}->{b}'\n",
    "\n",
    "        n = len(nums)\n",
    "        if n == 0:\n",
    "            return [f(lower, upper)]\n",
    "        ans = []\n",
    "        if nums[0] > lower:\n",
    "            ans.append(f(lower, nums[0] - 1))\n",
    "        for a, b in pairwise(nums):\n",
    "            if b - a > 1:\n",
    "                ans.append(f(a + 1, b - 1))\n",
    "        if nums[-1] < upper:\n",
    "            ans.append(f(nums[-1] + 1, upper))\n",
    "        return ans\n",
    "\n",
    "nums = [0,1,3,50,75]\n",
    "lower = 0\n",
    "upper = 99\n",
    "\n",
    "ob = Solution()\n",
    "ob.findMissingRanges(nums, lower, upper)\n"
   ]
  },
  {
   "attachments": {},
   "cell_type": "markdown",
   "id": "356e3d2b",
   "metadata": {},
   "source": [
    "<aside> \n",
    "\n",
    "**Question 8**\n",
    "\n",
    "Given an array of meeting time intervals where intervals[i] = [starti, endi],\n",
    "determine if a person could attend all meetings.\n",
    "\n",
    "**Example 1:**\n",
    "\n",
    "Input: intervals = [[0,30],[5,10],[15,20]]\n",
    "\n",
    "Output: false\n",
    "\n",
    "</aside>"
   ]
  },
  {
   "cell_type": "code",
   "execution_count": 37,
   "id": "b6999ad3",
   "metadata": {},
   "outputs": [
    {
     "name": "stdout",
     "output_type": "stream",
     "text": [
      "False\n"
     ]
    }
   ],
   "source": [
    "from typing import List\n",
    "\n",
    "class Solution:\n",
    "    def canAttendMeetings(self, intervals: List[List[int]]) -> bool:\n",
    "        n = len(intervals)\n",
    "        \n",
    "        def overlap(a, b):\n",
    "            return min(a[1], b[1]) > max(a[0], b[0])\n",
    "        \n",
    "        for i in range(n):\n",
    "            for j in range(i):\n",
    "                if overlap(intervals[i], intervals[j]):\n",
    "                    return False\n",
    "        return True\n",
    "    \n",
    "intervals = [[0,30],[5,10],[15,20]]\n",
    "ob = Solution()\n",
    "print(ob.canAttendMeetings(intervals))"
   ]
  },
  {
   "cell_type": "code",
   "execution_count": null,
   "id": "e695d05b",
   "metadata": {},
   "outputs": [],
   "source": []
  }
 ],
 "metadata": {
  "kernelspec": {
   "display_name": "Python 3 (ipykernel)",
   "language": "python",
   "name": "python3"
  },
  "language_info": {
   "codemirror_mode": {
    "name": "ipython",
    "version": 3
   },
   "file_extension": ".py",
   "mimetype": "text/x-python",
   "name": "python",
   "nbconvert_exporter": "python",
   "pygments_lexer": "ipython3",
   "version": "3.10.6"
  }
 },
 "nbformat": 4,
 "nbformat_minor": 5
}
