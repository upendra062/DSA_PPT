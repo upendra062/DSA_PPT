{
 "cells": [
  {
   "attachments": {},
   "cell_type": "markdown",
   "id": "455054b3",
   "metadata": {},
   "source": [
    "# Assignment Questions 7 "
   ]
  },
  {
   "attachments": {},
   "cell_type": "markdown",
   "id": "f7c45333",
   "metadata": {},
   "source": [
    "<aside>\n",
    "\n",
    "**Question 1**\n",
    "\n",
    "Given two strings s and t, *determine if they are isomorphic*.\n",
    "\n",
    "Two strings s and t are isomorphic if the characters in s can be replaced to get t.\n",
    "\n",
    "All occurrences of a character must be replaced with another character while preserving the order of characters. No two characters may map to the same character, but a character may map to itself.\n",
    "\n",
    "**Example 1:**\n",
    "\n",
    "**Input:** s = \"egg\", t = \"add\"\n",
    "\n",
    "**Output:** true\n",
    "\n",
    "</aside>"
   ]
  },
  {
   "cell_type": "code",
   "execution_count": 1,
   "id": "99d477f1",
   "metadata": {},
   "outputs": [
    {
     "data": {
      "text/plain": [
       "True"
      ]
     },
     "execution_count": 1,
     "metadata": {},
     "output_type": "execute_result"
    }
   ],
   "source": [
    "# Time Complexity : O(n)\n",
    "class Solution(object):\n",
    "    def isIsomorphic(self, s, t):\n",
    "        map1 = []\n",
    "        map2 = []\n",
    "        for idx in s:\n",
    "            map1.append(s.index(idx))\n",
    "        for idx in t:\n",
    "            map2.append(t.index(idx))\n",
    "        if map1 == map2:\n",
    "            return True\n",
    "        return False\n",
    "\n",
    "s = \"egg\"\n",
    "t = \"add\"\n",
    "\n",
    "ob = Solution()\n",
    "ob.isIsomorphic(s,t)"
   ]
  },
  {
   "cell_type": "code",
   "execution_count": null,
   "id": "78834813",
   "metadata": {},
   "outputs": [],
   "source": []
  },
  {
   "cell_type": "code",
   "execution_count": null,
   "id": "aefbedc0",
   "metadata": {},
   "outputs": [],
   "source": []
  },
  {
   "attachments": {},
   "cell_type": "markdown",
   "id": "eaee4411",
   "metadata": {},
   "source": [
    "<aside>\n",
    "\n",
    "**Question 2**\n",
    "\n",
    "Given a string num which represents an integer, return true *if* num *is a **strobogrammatic number***.\n",
    "\n",
    "A **strobogrammatic number** is a number that looks the same when rotated 180 degrees (looked at upside down).\n",
    "\n",
    "**Example 1:**\n",
    "\n",
    "**Input:** num = \"69\"\n",
    "\n",
    "**Output:**\n",
    "\n",
    "true\n",
    "\n",
    "</aside>"
   ]
  },
  {
   "cell_type": "code",
   "execution_count": 2,
   "id": "0d421ed7",
   "metadata": {},
   "outputs": [
    {
     "data": {
      "text/plain": [
       "True"
      ]
     },
     "execution_count": 2,
     "metadata": {},
     "output_type": "execute_result"
    }
   ],
   "source": [
    "class Solution(object):\n",
    "    def isStrobogrammatic(self, num):\n",
    "      \n",
    "        maps = {(\"0\", \"0\"), (\"1\", \"1\"), (\"6\", \"9\"), (\"8\", \"8\"), (\"9\", \"6\")}\n",
    "        i,j = 0, len(num) - 1\n",
    "        while i <= j:\n",
    "            if (num[i], num[j]) not in maps:\n",
    "                return False\n",
    "            i += 1\n",
    "            j -= 1\n",
    "        return True\n",
    "\n",
    "num = \"69\"\n",
    "ob = Solution()\n",
    "ob.isStrobogrammatic(num)"
   ]
  },
  {
   "cell_type": "code",
   "execution_count": null,
   "id": "43f86362",
   "metadata": {},
   "outputs": [],
   "source": []
  },
  {
   "cell_type": "code",
   "execution_count": null,
   "id": "0142119c",
   "metadata": {},
   "outputs": [],
   "source": []
  },
  {
   "attachments": {},
   "cell_type": "markdown",
   "id": "117fdd7b",
   "metadata": {},
   "source": [
    "<aside>\n",
    "\n",
    "**Question 3**\n",
    "\n",
    "Given two non-negative integers, num1 and num2 represented as string, return *the sum of* num1 *and* num2 *as a string*.\n",
    "\n",
    "You must solve the problem without using any built-in library for handling large integers (such as BigInteger). You must also not convert the inputs to integers directly.\n",
    "\n",
    "**Example 1:**\n",
    "\n",
    "**Input:** num1 = \"11\", num2 = \"123\"\n",
    "\n",
    "**Output:**\n",
    "\n",
    "\"134\"\n",
    "\n",
    "</aside>"
   ]
  },
  {
   "cell_type": "code",
   "execution_count": 4,
   "id": "c4adda05",
   "metadata": {},
   "outputs": [
    {
     "data": {
      "text/plain": [
       "'134'"
      ]
     },
     "execution_count": 4,
     "metadata": {},
     "output_type": "execute_result"
    }
   ],
   "source": [
    "import sys\n",
    "\n",
    "class Solution(object):\n",
    "    def addStrings(self, num1, num2):\n",
    "        \"\"\"\n",
    "        :type num1: str\n",
    "        :type num2: str\n",
    "        :rtype: str\n",
    "        \"\"\"\n",
    "        return str(int(num1)+int(num2))\n",
    "        \n",
    "num1 = \"11\"\n",
    "num2 = \"123\"\n",
    "\n",
    "ob = Solution()\n",
    "ob.addStrings(num1,num2)"
   ]
  },
  {
   "cell_type": "code",
   "execution_count": null,
   "id": "5482c92e",
   "metadata": {},
   "outputs": [],
   "source": []
  },
  {
   "cell_type": "code",
   "execution_count": null,
   "id": "4f3e9c10",
   "metadata": {},
   "outputs": [],
   "source": []
  },
  {
   "attachments": {},
   "cell_type": "markdown",
   "id": "9146f7ed",
   "metadata": {},
   "source": [
    "<aside>\n",
    "\n",
    "**Question 4**\n",
    "\n",
    "Given a string s, reverse the order of characters in each word within a sentence while still preserving whitespace and initial word order.\n",
    "\n",
    "**Example 1:**\n",
    "\n",
    "**Input:** s = \"Let's take LeetCode contest\"\n",
    "\n",
    "**Output:** \"s'teL ekat edoCteeL tsetnoc\"\n",
    "\n",
    "</aside>"
   ]
  },
  {
   "cell_type": "code",
   "execution_count": 5,
   "id": "65f466ee",
   "metadata": {},
   "outputs": [
    {
     "data": {
      "text/plain": [
       "\"s'teL ekat edoCteeL tsetnoc\""
      ]
     },
     "execution_count": 5,
     "metadata": {},
     "output_type": "execute_result"
    }
   ],
   "source": [
    "\n",
    "class Solution:\n",
    "    def reverseWords(self, s: str) -> str:\n",
    "        return \" \".join([x[::-1] for x in s.split()])\n",
    "        \n",
    "s = \"Let's take LeetCode contest\"\n",
    "ob = Solution()\n",
    "ob.reverseWords(s)"
   ]
  },
  {
   "cell_type": "code",
   "execution_count": null,
   "id": "38bc607b",
   "metadata": {},
   "outputs": [],
   "source": []
  },
  {
   "cell_type": "code",
   "execution_count": null,
   "id": "1c54c86a",
   "metadata": {},
   "outputs": [],
   "source": []
  },
  {
   "attachments": {},
   "cell_type": "markdown",
   "id": "5a55978e",
   "metadata": {},
   "source": [
    "<aside>\n",
    "\n",
    "**Question 5**\n",
    "\n",
    "Given a string s and an integer k, reverse the first k characters for every 2k characters counting from the start of the string.\n",
    "\n",
    "If there are fewer than k characters left, reverse all of them. If there are less than 2k but greater than or equal to k characters, then reverse the first k characters and leave the other as original.\n",
    "\n",
    "**Example 1:**\n",
    "\n",
    "**Input:** s = \"abcdefg\", k = 2\n",
    "\n",
    "**Output:**\n",
    "\n",
    "\"bacdfeg\"\n",
    "\n",
    "</aside>"
   ]
  },
  {
   "cell_type": "code",
   "execution_count": 11,
   "id": "c7f73036",
   "metadata": {},
   "outputs": [
    {
     "data": {
      "text/plain": [
       "'bacdfeg'"
      ]
     },
     "execution_count": 11,
     "metadata": {},
     "output_type": "execute_result"
    }
   ],
   "source": [
    "class Solution:\n",
    "    def reverseStr(self, s: str, k: int) -> str:\n",
    "        tab=[]\n",
    "        for i in range(len(s)):\n",
    "            if (i//k)%2==0:\n",
    "               tab.insert(i-i%k,s[i])\n",
    "            else:\n",
    "                tab.append(s[i])\n",
    "        res=\"\"\n",
    "        for t in tab:\n",
    "            res+=t\n",
    "        return res\n",
    "    \n",
    "s = \"abcdefg\"\n",
    "k = 2\n",
    "ob = Solution()\n",
    "ob.reverseStr(s,k)"
   ]
  },
  {
   "cell_type": "code",
   "execution_count": null,
   "id": "c03f9286",
   "metadata": {},
   "outputs": [],
   "source": []
  },
  {
   "cell_type": "code",
   "execution_count": null,
   "id": "985c1343",
   "metadata": {},
   "outputs": [],
   "source": []
  },
  {
   "attachments": {},
   "cell_type": "markdown",
   "id": "74a59afd",
   "metadata": {},
   "source": [
    "<aside>\n",
    "\n",
    "**Question 6**\n",
    "\n",
    "Given two strings s and goal, return true *if and only if* s *can become* goal *after some number of **shifts** on* s.\n",
    "\n",
    "A **shift** on s consists of moving the leftmost character of s to the rightmost position.\n",
    "\n",
    "- For example, if s = \"abcde\", then it will be \"bcdea\" after one shift.\n",
    "\n",
    "**Example 1:**\n",
    "\n",
    "**Input:** s = \"abcde\", goal = \"cdeab\"\n",
    "\n",
    "**Output:**\n",
    "\n",
    "true\n",
    "\n",
    "</aside>"
   ]
  },
  {
   "cell_type": "code",
   "execution_count": 12,
   "id": "ffab2fbc",
   "metadata": {},
   "outputs": [
    {
     "data": {
      "text/plain": [
       "True"
      ]
     },
     "execution_count": 12,
     "metadata": {},
     "output_type": "execute_result"
    }
   ],
   "source": [
    "class Solution:\n",
    "    def rotateString(self, s: str, goal: str) -> bool:\n",
    "        if s == goal:\n",
    "            return True\n",
    "\n",
    "        s, goal = [*s], [*goal] \n",
    "\n",
    "        # unpacking the strings (creates list)\n",
    "        # ex: 'hello' -> ['h','e','l','l','o']\n",
    "\n",
    "\n",
    "        for x in range(len(s)):\n",
    "            a = s[0]\n",
    "            s.pop(0); s.append(a)\n",
    "            # rotate the string by saving the first character then removing it and then adding it to the end\n",
    "\n",
    "            if s == goal:\n",
    "                return True\n",
    "            # checking if the rotated string is the same as the goal\n",
    "\n",
    "        return False\n",
    "\n",
    "\n",
    "s = \"abcde\"\n",
    "goal = \"cdeab\"\n",
    "ob = Solution()\n",
    "ob.rotateString(s,goal)"
   ]
  },
  {
   "cell_type": "code",
   "execution_count": null,
   "id": "036d5d60",
   "metadata": {},
   "outputs": [],
   "source": []
  },
  {
   "cell_type": "code",
   "execution_count": null,
   "id": "ec631748",
   "metadata": {},
   "outputs": [],
   "source": []
  },
  {
   "attachments": {},
   "cell_type": "markdown",
   "id": "10c35d0f",
   "metadata": {},
   "source": [
    "<aside>\n",
    "\n",
    "**Question 7**\n",
    "\n",
    "Given two strings s and t, return true *if they are equal when both are typed into empty text editors*. '#' means a backspace character.\n",
    "\n",
    "Note that after backspacing an empty text, the text will continue empty.\n",
    "\n",
    "**Example 1:**\n",
    "\n",
    "**Input:** s = \"ab#c\", t = \"ad#c\"\n",
    "\n",
    "**Output:** true\n",
    "\n",
    "**Explanation:**\n",
    "\n",
    "Both s and t become \"ac\".\n",
    "\n",
    "</aside>"
   ]
  },
  {
   "cell_type": "code",
   "execution_count": 13,
   "id": "725e73fb",
   "metadata": {},
   "outputs": [
    {
     "data": {
      "text/plain": [
       "True"
      ]
     },
     "execution_count": 13,
     "metadata": {},
     "output_type": "execute_result"
    }
   ],
   "source": [
    "class Solution:\n",
    "    def backspaceCompare(self, s: str, t: str) -> bool:\n",
    "        s_backspaced = []\n",
    "        t_backspaced = []\n",
    "        \n",
    "        for i in range(len(s)):\n",
    "            if s[i] == '#':\n",
    "                if s_backspaced:\n",
    "                    s_backspaced.pop()\n",
    "            else:\n",
    "                s_backspaced.append(s[i])\n",
    "            \n",
    "        for i in range(len(t)):\n",
    "            if t[i] == '#':\n",
    "                if t_backspaced:\n",
    "                    t_backspaced.pop()\n",
    "            else:\n",
    "                t_backspaced.append(t[i])\n",
    "        \n",
    "        return s_backspaced == t_backspaced\n",
    "\n",
    "\n",
    "s = \"ab#c\"\n",
    "t = \"ad#c\"\n",
    "ob = Solution()\n",
    "ob.backspaceCompare(s,t)"
   ]
  },
  {
   "cell_type": "code",
   "execution_count": null,
   "id": "8edad22a",
   "metadata": {},
   "outputs": [],
   "source": []
  },
  {
   "cell_type": "code",
   "execution_count": null,
   "id": "d9d45613",
   "metadata": {},
   "outputs": [],
   "source": []
  },
  {
   "attachments": {},
   "cell_type": "markdown",
   "id": "d6224bee",
   "metadata": {},
   "source": [
    "<aside>\n",
    "\n",
    "**Question 8**\n",
    "\n",
    "You are given an array coordinates, coordinates[i] = [x, y], where [x, y] represents the coordinate of a point. Check if these points make a straight line in the XY plane.\n",
    "\n",
    "**Example 1:**\n",
    "\n",
    "<img src=\"img/Screenshot_2023-05-29_010117.png\" style=\"width:400px;height:400px\"/>    \n",
    "    \n",
    "**Input:** coordinates = [[1,2],[2,3],[3,4],[4,5],[5,6],[6,7]]\n",
    "\n",
    "**Output:** true    \n",
    "    \n",
    "</aside>"
   ]
  },
  {
   "cell_type": "code",
   "execution_count": 14,
   "id": "f4feb879",
   "metadata": {},
   "outputs": [
    {
     "data": {
      "text/plain": [
       "True"
      ]
     },
     "execution_count": 14,
     "metadata": {},
     "output_type": "execute_result"
    }
   ],
   "source": [
    "class Solution:\n",
    "    def checkStraightLine(self, coordinates):\n",
    "        x0, y0 = coordinates[0]\n",
    "        x1, y1 = coordinates[1]\n",
    "\n",
    "        for i in range(2, len(coordinates)):\n",
    "            x, y = coordinates[i]\n",
    "            if (x - x0) * (y1 - y0) != (y - y0) * (x1 - x0):\n",
    "                return False\n",
    "\n",
    "        return True\n",
    "\n",
    "\n",
    "coordinates = [[1,2],[2,3],[3,4],[4,5],[5,6],[6,7]]\n",
    "ob = Solution()\n",
    "ob.checkStraightLine(coordinates)"
   ]
  },
  {
   "cell_type": "code",
   "execution_count": null,
   "id": "fcb67708",
   "metadata": {},
   "outputs": [],
   "source": []
  },
  {
   "cell_type": "code",
   "execution_count": null,
   "id": "c73a18a3",
   "metadata": {},
   "outputs": [],
   "source": []
  }
 ],
 "metadata": {
  "kernelspec": {
   "display_name": "Python 3 (ipykernel)",
   "language": "python",
   "name": "python3"
  },
  "language_info": {
   "codemirror_mode": {
    "name": "ipython",
    "version": 3
   },
   "file_extension": ".py",
   "mimetype": "text/x-python",
   "name": "python",
   "nbconvert_exporter": "python",
   "pygments_lexer": "ipython3",
   "version": "3.10.6"
  }
 },
 "nbformat": 4,
 "nbformat_minor": 5
}
