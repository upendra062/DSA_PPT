{
 "cells": [
  {
   "cell_type": "markdown",
   "metadata": {},
   "source": [
    "1. Write a Python program to reverse a string without using any built-in string reversal functions.\n",
    "\n"
   ]
  },
  {
   "cell_type": "code",
   "execution_count": 1,
   "metadata": {},
   "outputs": [
    {
     "name": "stdout",
     "output_type": "stream",
     "text": [
      "[4, 3, 2, 1]\n"
     ]
    }
   ],
   "source": [
    "def reverse_string(mystring):\n",
    "    '''\n",
    "    This function is created to reverse string\n",
    "    '''\n",
    "    rev_string = mystring[::-1]\n",
    "    return rev_string \n",
    "\n",
    "mystring = [1,2,3,4]\n",
    "print(reverse_string(mystring))"
   ]
  },
  {
   "cell_type": "markdown",
   "metadata": {},
   "source": [
    "2. Implement a function to check if a given string is a palindrome.\n"
   ]
  },
  {
   "cell_type": "code",
   "execution_count": 5,
   "metadata": {},
   "outputs": [
    {
     "name": "stdout",
     "output_type": "stream",
     "text": [
      "True\n"
     ]
    }
   ],
   "source": [
    "def palindrome(mystring):\n",
    "    '''\n",
    "    This function checks wheather a string is palindrome or not\n",
    "    ex- abcba is palindrome because\n",
    "    if a string is palindrome function return True else False\n",
    "    '''\n",
    "    rev = mystring[::-1]\n",
    "    if mystring==rev:\n",
    "        return True\n",
    "    else:\n",
    "        return False \n",
    "    \n",
    "mystring = 'upenepu'  \n",
    "print(palindrome(mystring))"
   ]
  },
  {
   "cell_type": "markdown",
   "metadata": {},
   "source": [
    "3. Write a program to find the largest element in a given list.\n"
   ]
  },
  {
   "cell_type": "code",
   "execution_count": 6,
   "metadata": {},
   "outputs": [
    {
     "data": {
      "text/plain": [
       "4"
      ]
     },
     "execution_count": 6,
     "metadata": {},
     "output_type": "execute_result"
    }
   ],
   "source": [
    "def largest_element(mylist):\n",
    "    \"\"\"\n",
    "    This function finds out the largest element \n",
    "    from a list \n",
    "    ex- \n",
    "    i/p - [1,2,3,4] \n",
    "    o/p - 4\n",
    "    \"\"\"\n",
    "    largest = max(mylist)\n",
    "    return largest \n",
    "\n",
    "mylist = [1,2,3,4]\n",
    "largest_element(mylist)"
   ]
  },
  {
   "cell_type": "markdown",
   "metadata": {},
   "source": [
    "4. Implement a function to count the occurrence of each element in a list.\n"
   ]
  },
  {
   "cell_type": "code",
   "execution_count": 155,
   "metadata": {},
   "outputs": [
    {
     "name": "stdout",
     "output_type": "stream",
     "text": [
      "4\n",
      "Counter({1: 4, 55: 3, 3: 1, 4: 1})\n"
     ]
    }
   ],
   "source": [
    "from collections import Counter \n",
    "\n",
    "def element_occurance(mylist):\n",
    "    '''\n",
    "    Function to count the occurance of \n",
    "    each element of a list\n",
    "    '''\n",
    "    c = Counter(mylist)\n",
    "    print(c[1])\n",
    "    return c \n",
    "\n",
    "mylist = [1,1,1,1,3,4,55,55,55]\n",
    "print(element_occurance(mylist))"
   ]
  },
  {
   "cell_type": "markdown",
   "metadata": {},
   "source": [
    "5. Write a Python program to find the second largest number in a list.\n"
   ]
  },
  {
   "cell_type": "code",
   "execution_count": 28,
   "metadata": {},
   "outputs": [
    {
     "name": "stdout",
     "output_type": "stream",
     "text": [
      "100\n"
     ]
    }
   ],
   "source": [
    "def second_highest_number_using_sort(l, n):\n",
    "    \"\"\"\n",
    "    This function return second highest number\n",
    "    from the list\n",
    "    \"\"\"\n",
    "    l.sort(reverse=True)\n",
    "    return l[n-1]\n",
    "\n",
    "\n",
    "l = [10, 20, 30, 4, 100, 22, 666]\n",
    "position = 2\n",
    "print(second_highest_number_using_sort(l, position))"
   ]
  },
  {
   "cell_type": "markdown",
   "metadata": {},
   "source": [
    "6. Implement a function to remove duplicate elements from a list.\n"
   ]
  },
  {
   "cell_type": "code",
   "execution_count": 30,
   "metadata": {},
   "outputs": [
    {
     "name": "stdout",
     "output_type": "stream",
     "text": [
      "[1, 2, 3, 4, 99, 393]\n"
     ]
    }
   ],
   "source": [
    "def remove_duplicate(nums):\n",
    "    \"\"\"\n",
    "    This function remove the duplicate from the list\n",
    "    \"\"\"\n",
    "    a = []\n",
    "    for i in nums:\n",
    "        if i not in a: \n",
    "            a.append(i)\n",
    "    return a\n",
    "\n",
    "nums = [1,1,2,2,3,4,4,99,393]\n",
    "print(remove_duplicate(nums))"
   ]
  },
  {
   "cell_type": "markdown",
   "metadata": {},
   "source": [
    "7. Write a program to calculate the factorial of a given number.\n"
   ]
  },
  {
   "cell_type": "code",
   "execution_count": 31,
   "metadata": {},
   "outputs": [
    {
     "name": "stdout",
     "output_type": "stream",
     "text": [
      "120\n"
     ]
    }
   ],
   "source": [
    "def factorial(n):\n",
    "    '''\n",
    "    function to calculate the factorial of a number\n",
    "    '''\n",
    "    a = 1\n",
    "    for i in range(1,n+1):\n",
    "        a *= i \n",
    "    return a\n",
    "\n",
    "print(factorial(5))"
   ]
  },
  {
   "cell_type": "markdown",
   "metadata": {},
   "source": [
    "8. Implement a function to check if a given number is prime.\n"
   ]
  },
  {
   "cell_type": "code",
   "execution_count": 37,
   "metadata": {},
   "outputs": [
    {
     "name": "stdout",
     "output_type": "stream",
     "text": [
      "Yes its & prime number\n"
     ]
    }
   ],
   "source": [
    "def prime_number(n):\n",
    "    '''\n",
    "    function to check wheather a given number\n",
    "    is prime number or not\n",
    "    '''\n",
    "    if n>1:\n",
    "        for i in range(2, n//2+1):\n",
    "            if n%i==0:\n",
    "                print(\"No its not a prime number\")\n",
    "                break \n",
    "        else:\n",
    "            print('Yes its & prime number')\n",
    "    else:\n",
    "        print('No! its not a prime number')\n",
    "\n",
    "     \n",
    "n = 3\n",
    "prime_number(n)"
   ]
  },
  {
   "cell_type": "markdown",
   "metadata": {},
   "source": [
    "9. Write a Python program to sort a list of integers in ascending order.\n"
   ]
  },
  {
   "cell_type": "code",
   "execution_count": 50,
   "metadata": {},
   "outputs": [
    {
     "name": "stdout",
     "output_type": "stream",
     "text": [
      "[1, 2, 2, 3, 5, 99]\n"
     ]
    }
   ],
   "source": [
    "def sort_list(sortlist):\n",
    "    \"\"\"\n",
    "    function to sort a list in ascending order\n",
    "    using sort function\n",
    "    \"\"\"\n",
    "    a = sorted(sortlist)\n",
    "    return a \n",
    "\n",
    "sortlist = [2,1,3,2,5,99]\n",
    "print(sort_list(sortlist))"
   ]
  },
  {
   "cell_type": "markdown",
   "metadata": {},
   "source": [
    "10. Implement a function to find the sum of all numbers in a list.\n"
   ]
  },
  {
   "cell_type": "code",
   "execution_count": 51,
   "metadata": {},
   "outputs": [
    {
     "name": "stdout",
     "output_type": "stream",
     "text": [
      "10\n"
     ]
    }
   ],
   "source": [
    "def sum_list(n):\n",
    "    \"\"\"\n",
    "    function to sum all int values in the list\n",
    "    \"\"\"\n",
    "    sum_num = 0\n",
    "    for i in n:\n",
    "        sum_num += i \n",
    "    return sum_num \n",
    "\n",
    "n = [1,2,3,4]\n",
    "print(sum_list(n))\n"
   ]
  },
  {
   "cell_type": "markdown",
   "metadata": {},
   "source": [
    "11. Write a program to find the common elements between two lists.\n"
   ]
  },
  {
   "cell_type": "code",
   "execution_count": 58,
   "metadata": {},
   "outputs": [
    {
     "data": {
      "text/plain": [
       "[1, 2]"
      ]
     },
     "execution_count": 58,
     "metadata": {},
     "output_type": "execute_result"
    }
   ],
   "source": [
    "def common_element(list1, list2):\n",
    "    \"\"\"\n",
    "    function return common elements in a list\n",
    "    \"\"\"\n",
    "    common_number = []\n",
    "    for i in list1:\n",
    "        if i in list2:\n",
    "            common_number.append(i)\n",
    "    return common_number \n",
    "\n",
    "list1 = [1,2,4,5,6]\n",
    "list2 = [1,2,3]\n",
    "common_element(list1, list2)"
   ]
  },
  {
   "cell_type": "markdown",
   "metadata": {},
   "source": [
    "12. Implement a function to check if a given string is an anagram of another string.\n"
   ]
  },
  {
   "cell_type": "code",
   "execution_count": 26,
   "metadata": {},
   "outputs": [
    {
     "name": "stdout",
     "output_type": "stream",
     "text": [
      "The two strings are anagram of each other\n"
     ]
    }
   ],
   "source": [
    "class Solution:\n",
    "    ''' \n",
    "    Function is to check whether two strings are \n",
    "    anagram of each other or not.\n",
    "    '''\n",
    "    def isAnagram(self, a, b):\n",
    " \n",
    "        if sorted(a) == sorted(b):\n",
    "            return True\n",
    "        else:\n",
    "            return False\n",
    " \n",
    "\n",
    "a = \"gram\"\n",
    "b = \"armg\"\n",
    "if(Solution().isAnagram(a, b)):\n",
    "  print(\"The two strings are anagram of each other\")\n",
    "else:\n",
    "  print(\"The two strings are not anagram of each other\")"
   ]
  },
  {
   "cell_type": "markdown",
   "metadata": {},
   "source": [
    "13. Write a Python program to generate all permutations of a given string.\n"
   ]
  },
  {
   "cell_type": "code",
   "execution_count": 2,
   "metadata": {},
   "outputs": [
    {
     "name": "stdout",
     "output_type": "stream",
     "text": [
      "ABCD\n",
      "ABDC\n",
      "ACBD\n",
      "ACDB\n",
      "ADBC\n",
      "ADCB\n",
      "BACD\n",
      "BADC\n",
      "BCAD\n",
      "BCDA\n",
      "BDAC\n",
      "BDCA\n",
      "CABD\n",
      "CADB\n",
      "CBAD\n",
      "CBDA\n",
      "CDAB\n",
      "CDBA\n",
      "DABC\n",
      "DACB\n",
      "DBAC\n",
      "DBCA\n",
      "DCAB\n",
      "DCBA\n"
     ]
    }
   ],
   "source": [
    "from itertools import permutations \n",
    "\n",
    "def allPermutations(str):\n",
    "\n",
    "    # Get all permutations of string 'ABC' \n",
    "    permList = permutations(str)\n",
    "\n",
    "    # print all permutations \n",
    "    for perm in list(permList):\n",
    "        print(''.join(perm))\n",
    "    \n",
    "\n",
    "str = 'ABCD'\n",
    "allPermutations(str)"
   ]
  },
  {
   "cell_type": "markdown",
   "metadata": {},
   "source": [
    "14. Implement a function to calculate the Fibonacci sequence up to a given number of terms.\n"
   ]
  },
  {
   "cell_type": "code",
   "execution_count": 4,
   "metadata": {},
   "outputs": [
    {
     "name": "stdout",
     "output_type": "stream",
     "text": [
      "0 1 1 2 3 5 8 13 "
     ]
    }
   ],
   "source": [
    "def fibonacci(n):\n",
    "    '''\n",
    "    This function print fibonacci number \n",
    "    '''\n",
    "    a, b = 0, 1\n",
    "    print(a, end=\" \")\n",
    "    while n>b:\n",
    "        print(b, end=' ')\n",
    "        a, b= b, a+b\n",
    "\n",
    "fibonacci(15)"
   ]
  },
  {
   "cell_type": "markdown",
   "metadata": {},
   "source": [
    "15. Write a program to find the median of a list of numbers.\n"
   ]
  },
  {
   "cell_type": "code",
   "execution_count": 5,
   "metadata": {},
   "outputs": [
    {
     "name": "stdout",
     "output_type": "stream",
     "text": [
      "5\n"
     ]
    }
   ],
   "source": [
    "import statistics \n",
    "\n",
    "def find_median(list_num):\n",
    "    '''\n",
    "    this program print the median of the number\n",
    "    '''\n",
    "    a = statistics.median(list_num)  \n",
    "    return a   \n",
    "\n",
    "list_num = [12,3,3,4,5,6,7]\n",
    "print(find_median(list_num))"
   ]
  },
  {
   "cell_type": "markdown",
   "metadata": {},
   "source": [
    "16. Implement a function to check if a given list is sorted in non-decreasing order.\n"
   ]
  },
  {
   "cell_type": "code",
   "execution_count": 7,
   "metadata": {},
   "outputs": [
    {
     "name": "stdout",
     "output_type": "stream",
     "text": [
      "Yes\n"
     ]
    }
   ],
   "source": [
    "def arraySortedOrNot(arr):\n",
    "    # Calculating length\n",
    "    n = len(arr)\n",
    " \n",
    "    # Array has one or no element or the\n",
    "    # rest are already checked and approved.\n",
    "    if n == 1 or n == 0:\n",
    "        return True\n",
    " \n",
    "    # Recursion applied till last element\n",
    "    return arr[0] <= arr[1] and arraySortedOrNot(arr[1:])\n",
    " \n",
    "arr = [20, 23, 23, 45, 78, 88]\n",
    " \n",
    "if arraySortedOrNot(arr):\n",
    "    print(\"Yes\")\n",
    "else:\n",
    "    print(\"No\")"
   ]
  },
  {
   "cell_type": "markdown",
   "metadata": {},
   "source": [
    "17. Write a Python program to find the intersection of two lists.\n"
   ]
  },
  {
   "cell_type": "code",
   "execution_count": 71,
   "metadata": {},
   "outputs": [
    {
     "name": "stdout",
     "output_type": "stream",
     "text": [
      "[9, 11, 26, 28]\n"
     ]
    }
   ],
   "source": [
    "def intersection(lst1, lst2):\n",
    "    lst3 = [value for value in lst1 if value in lst2] \n",
    "    return lst3\n",
    " \n",
    "lst1 = [4, 9, 1, 17, 11, 26, 28, 54, 69]\n",
    "lst2 = [9, 9, 74, 21, 45, 11, 63, 28, 26]\n",
    "print(intersection(lst1, lst2))"
   ]
  },
  {
   "cell_type": "markdown",
   "metadata": {},
   "source": [
    "18. Implement a function to find the maximum subarray sum in a given list.\n"
   ]
  },
  {
   "cell_type": "code",
   "execution_count": 75,
   "metadata": {},
   "outputs": [
    {
     "name": "stdout",
     "output_type": "stream",
     "text": [
      "16\n"
     ]
    }
   ],
   "source": [
    "def maximumSubarraySum(arr):\n",
    "       n = len(arr)\n",
    "       maxSum = -1e8\n",
    "       currSum = 0\n",
    "\n",
    "       for i in range(0, n):\n",
    "           currSum = currSum + arr[i]\n",
    "           if(currSum > maxSum):\n",
    "               maxSum = currSum\n",
    "           if(currSum < 0):\n",
    "               currSum = 0\n",
    "      \n",
    "       return maxSum\n",
    "\n",
    "\n",
    "print(maximumSubarraySum([1, 3, 8, -2, 6, -8, 5]))"
   ]
  },
  {
   "cell_type": "markdown",
   "metadata": {},
   "source": [
    "19. Write a program to remove all vowels from a given string.\n"
   ]
  },
  {
   "cell_type": "code",
   "execution_count": 8,
   "metadata": {},
   "outputs": [
    {
     "data": {
      "text/plain": [
       "'Wrt  prgrm t rmv ll vwls frm  gvn strng'"
      ]
     },
     "execution_count": 8,
     "metadata": {},
     "output_type": "execute_result"
    }
   ],
   "source": [
    "def vowel_remover(mystr):\n",
    "    '''\n",
    "    This function remove the vowel \"aeiou\" \n",
    "    ex - \n",
    "    i/p - your name\n",
    "    o/p - yr nm\n",
    "    '''\n",
    "    vowel = 'aeiou'\n",
    "    new_string = ''\n",
    "    for i in mystr:\n",
    "        if i not in vowel:\n",
    "            new_string += i \n",
    "    return new_string\n",
    "\n",
    "mystr = 'Write a program to remove all vowels from a given string'\n",
    "vowel_remover(mystr)"
   ]
  },
  {
   "cell_type": "markdown",
   "metadata": {},
   "source": [
    "20. Implement a function to reverse the order of words in a given sentence.\n"
   ]
  },
  {
   "cell_type": "code",
   "execution_count": 25,
   "metadata": {},
   "outputs": [
    {
     "data": {
      "text/plain": [
       "'yeH ym eman si ykcor i ma gnisrever eht drow'"
      ]
     },
     "execution_count": 25,
     "metadata": {},
     "output_type": "execute_result"
    }
   ],
   "source": [
    "def reverse_words_of_Sentance(words):\n",
    "    '''\n",
    "    The function reverse words from a string \n",
    "    ex - \n",
    "    i/p 'hey you' \n",
    "    o/p 'yeh uoy';\n",
    "    '''\n",
    "    new_words = words.split(' ')\n",
    "    rev_words = ''\n",
    "    for i in new_words:\n",
    "        rev_words += i[::-1] + ' '\n",
    "    rev_words = rev_words[:-1]    \n",
    "    return rev_words \n",
    "\n",
    "words = 'Hey my name is rocky i am reversing the word'\n",
    "reverse_words_of_Sentance(words)"
   ]
  },
  {
   "cell_type": "markdown",
   "metadata": {},
   "source": [
    "21. Write a Python program to check if two strings are anagrams of each other.\n"
   ]
  },
  {
   "cell_type": "code",
   "execution_count": 27,
   "metadata": {},
   "outputs": [
    {
     "name": "stdout",
     "output_type": "stream",
     "text": [
      "The two strings are anagram of each other\n"
     ]
    }
   ],
   "source": [
    "class Solution:\n",
    "    ''' \n",
    "    Function is to check whether two strings are \n",
    "    anagram of each other or not.\n",
    "    '''\n",
    "    def isAnagram(self, a, b):\n",
    " \n",
    "        if sorted(a) == sorted(b):\n",
    "            return True\n",
    "        else:\n",
    "            return False\n",
    " \n",
    "\n",
    "a = \"gram\"\n",
    "b = \"armg\"\n",
    "if(Solution().isAnagram(a, b)):\n",
    "  print(\"The two strings are anagram of each other\")\n",
    "else:\n",
    "  print(\"The two strings are not anagram of each other\")"
   ]
  },
  {
   "cell_type": "markdown",
   "metadata": {},
   "source": [
    "22. Implement a function to find the first non-repeating character in a string.\n"
   ]
  },
  {
   "cell_type": "code",
   "execution_count": 40,
   "metadata": {},
   "outputs": [
    {
     "name": "stdout",
     "output_type": "stream",
     "text": [
      "first non repeating character is i\n"
     ]
    }
   ],
   "source": [
    "def first_repeating_characater(mystr):\n",
    "    '''\n",
    "    function to find first repeating character\n",
    "    '''\n",
    "    a = ''\n",
    "    for i in mystr: \n",
    "        if (mystr.find(i, (mystr.find(i)+1))) == -1: \n",
    "            # print(\"First non-repeating character is\", i)\n",
    "            a += i \n",
    "            break \n",
    "    return a\n",
    "\n",
    "mystr = \"abcdefghijkabcdefgh\"\n",
    "print('first non repeating character is', first_repeating_characater(mystr))"
   ]
  },
  {
   "cell_type": "markdown",
   "metadata": {},
   "source": [
    "23. Write a program to find the prime factors of a given number.\n"
   ]
  },
  {
   "cell_type": "code",
   "execution_count": 60,
   "metadata": {},
   "outputs": [
    {
     "name": "stdout",
     "output_type": "stream",
     "text": [
      "5 5 5 "
     ]
    }
   ],
   "source": [
    "import math\n",
    " \n",
    "def primeFactors(n):\n",
    "    '''\n",
    "    A function to print all prime factors of\n",
    "    a given number n\n",
    "    ''' \n",
    "    # Print the number of two's that divide n\n",
    "    while n % 2 == 0:\n",
    "        print(2, end=' ')\n",
    "        n = n / 2\n",
    "         \n",
    "    # n must be odd at this point\n",
    "    # so a skip of 2 ( i = i + 2) can be used\n",
    "    for i in range(3, int(math.sqrt(n))+1, 2):\n",
    "        # while i divides n, print i ad divide n\n",
    "        while n % i == 0:\n",
    "            print(i, end=\" \")\n",
    "            n = n / i\n",
    " \n",
    "n = 125\n",
    "primeFactors(n)"
   ]
  },
  {
   "cell_type": "code",
   "execution_count": 63,
   "metadata": {},
   "outputs": [
    {
     "name": "stdout",
     "output_type": "stream",
     "text": [
      "[2, 3, 5, 7]\n"
     ]
    }
   ],
   "source": [
    "def Prime_Factorial(n):\n",
    "    if n < 4:\n",
    "        return n\n",
    "    arr = []\n",
    "    while n > 1:\n",
    "        for i in range(2, int(2+n//2)):\n",
    "            if i == (1 + n // 2):\n",
    "                arr.append(n)\n",
    "                n = n // n\n",
    "            if n % i == 0:\n",
    "                arr.append(i)\n",
    "                n = n // i\n",
    "                break\n",
    "    return arr\n",
    "\n",
    "n = 210\n",
    "print(Prime_Factorial(n))"
   ]
  },
  {
   "cell_type": "markdown",
   "metadata": {},
   "source": [
    "24. Implement a function to check if a given number is a power of two.\n"
   ]
  },
  {
   "cell_type": "code",
   "execution_count": 68,
   "metadata": {},
   "outputs": [
    {
     "name": "stdout",
     "output_type": "stream",
     "text": [
      "yes\n"
     ]
    }
   ],
   "source": [
    "def check_twopower(n):\n",
    "\n",
    "    if n%2==0 and n>2:\n",
    "        print('yes')\n",
    "    else:\n",
    "        print('non')\n",
    "check_twopower(6)"
   ]
  },
  {
   "cell_type": "markdown",
   "metadata": {},
   "source": [
    "25. Write a Python program to merge two sorted lists into a single sorted list.\n"
   ]
  },
  {
   "cell_type": "code",
   "execution_count": 71,
   "metadata": {},
   "outputs": [
    {
     "name": "stdout",
     "output_type": "stream",
     "text": [
      "31 is not power of 2 No\n",
      "64 is a power of 2 Yes\n"
     ]
    }
   ],
   "source": [
    "import math\n",
    "\n",
    "# Log base 2\n",
    "def Log2(x):\n",
    "    if x == 0:\n",
    "        return False\n",
    "    return (math.log10(x) / math.log10(2))\n",
    " \n",
    "# if x is power of 2\n",
    "def isPowerOfTwo(n):\n",
    "    return (math.ceil(Log2(n)) == math.floor(Log2(n)))\n",
    "\n",
    "if(isPowerOfTwo(31)):\n",
    "    print(\"Yes\")\n",
    "else:\n",
    "    print(\"31 is not power of 2 No\")\n",
    "\n",
    "if(isPowerOfTwo(64)):\n",
    "    print(\"64 is a power of 2 Yes\")\n",
    "else:\n",
    "    print(\"No\")"
   ]
  },
  {
   "cell_type": "markdown",
   "metadata": {},
   "source": [
    "26. Implement a function to find the mode of a list of numbers.\n"
   ]
  },
  {
   "cell_type": "code",
   "execution_count": 74,
   "metadata": {},
   "outputs": [
    {
     "data": {
      "text/plain": [
       "2"
      ]
     },
     "execution_count": 74,
     "metadata": {},
     "output_type": "execute_result"
    }
   ],
   "source": [
    "from statistics import mode\n",
    "\n",
    "def mode_of_list(n):\n",
    "    '''\n",
    "    function to find mode from a list\n",
    "    '''\n",
    "    return mode(n)\n",
    "\n",
    "a = [12,2,3,4,5,6,7,4,3,2,34,5,6,7,1]\n",
    "mode_of_list(a)"
   ]
  },
  {
   "cell_type": "markdown",
   "metadata": {},
   "source": [
    "27. Write a program to find the greatest common divisor (GCD) of two numbers.\n"
   ]
  },
  {
   "cell_type": "code",
   "execution_count": 75,
   "metadata": {},
   "outputs": [
    {
     "name": "stdout",
     "output_type": "stream",
     "text": [
      "GCD of 98 and 56 is 14\n"
     ]
    }
   ],
   "source": [
    "def gcd(a, b):\n",
    "    '''\n",
    "    Function to find gcd of two numbers\n",
    "    '''\n",
    "    # Find minimum of a and b\n",
    "    result = min(a, b)\n",
    " \n",
    "    while result:\n",
    "        if a % result == 0 and b % result == 0:\n",
    "            break\n",
    "        result -= 1\n",
    " \n",
    "    # Return the gcd of a and b\n",
    "    return result\n",
    "\n",
    "a = 98\n",
    "b = 56\n",
    "print(f\"GCD of {a} and {b} is {gcd(a, b)}\")"
   ]
  },
  {
   "cell_type": "markdown",
   "metadata": {},
   "source": [
    "28. Implement a function to calculate the square root of a given number.\n"
   ]
  },
  {
   "cell_type": "code",
   "execution_count": 76,
   "metadata": {},
   "outputs": [
    {
     "data": {
      "text/plain": [
       "2.0"
      ]
     },
     "execution_count": 76,
     "metadata": {},
     "output_type": "execute_result"
    }
   ],
   "source": [
    "from math import sqrt\n",
    "\n",
    "def square_root(n):\n",
    "    ''' \n",
    "    function return square root of number\n",
    "    '''\n",
    "    return sqrt(n)     \n",
    "\n",
    "n = 4 \n",
    "square_root(n)"
   ]
  },
  {
   "cell_type": "markdown",
   "metadata": {},
   "source": [
    "29. Write a Python program to check if a given string is a valid palindrome ignoring non-alphanumeric characters.\n"
   ]
  },
  {
   "cell_type": "code",
   "execution_count": 93,
   "metadata": {},
   "outputs": [
    {
     "name": "stdout",
     "output_type": "stream",
     "text": [
      "True\n",
      "Yes\n"
     ]
    }
   ],
   "source": [
    "import re \n",
    "\n",
    "def isPalindrome(my_str):\n",
    "    '''\n",
    "    program to check string is palindrome \n",
    "    by removing alphanumeric character\n",
    "    '''\n",
    "    # Removing all alphanumeric character\n",
    "    s = re.sub(r'[^a-zA-Z]', '', my_str)\n",
    "    return s == s[::-1]\n",
    " \n",
    "s = \"@@malay!!!alam\"\n",
    "ans = isPalindrome(s)\n",
    "print(ans)\n",
    "if ans:\n",
    "    print(\"Yes\")\n",
    "else:\n",
    "    print(\"No\")"
   ]
  },
  {
   "cell_type": "markdown",
   "metadata": {},
   "source": [
    "30. Implement a function to find the minimum element in a rotated sorted list.\n"
   ]
  },
  {
   "cell_type": "code",
   "execution_count": 95,
   "metadata": {},
   "outputs": [
    {
     "name": "stdout",
     "output_type": "stream",
     "text": [
      "1\n"
     ]
    }
   ],
   "source": [
    "def findMin(arr, N):\n",
    "     \n",
    "    min_ele = arr[0]\n",
    " \n",
    "    # Traversing over array to\n",
    "    # find minimum element\n",
    "    for i in range(N) :\n",
    "        if arr[i] < min_ele :\n",
    "            min_ele = arr[i]\n",
    " \n",
    "    return min_ele\n",
    " \n",
    "# Driver program\n",
    "arr = [5, 6, 1, 2, 3, 4]\n",
    "N = len(arr)\n",
    " \n",
    "print(findMin(arr,N))"
   ]
  },
  {
   "cell_type": "code",
   "execution_count": 96,
   "metadata": {},
   "outputs": [
    {
     "name": "stdout",
     "output_type": "stream",
     "text": [
      "The Minimum Element in the vector is:  1\n"
     ]
    }
   ],
   "source": [
    "\n",
    "from typing import List\n",
    " \n",
    "def find_min(arr: List[int]) -> int:\n",
    "    return min(arr)\n",
    " \n",
    "v = [5, 6, 1, 2, 3, 4]\n",
    "print(\"The Minimum Element in the vector is: \", find_min(v))"
   ]
  },
  {
   "cell_type": "markdown",
   "metadata": {},
   "source": [
    "31. Write a program to find the sum of all even numbers in a list.\n"
   ]
  },
  {
   "cell_type": "code",
   "execution_count": 105,
   "metadata": {},
   "outputs": [
    {
     "data": {
      "text/plain": [
       "'sum of even numbers 20'"
      ]
     },
     "execution_count": 105,
     "metadata": {},
     "output_type": "execute_result"
    }
   ],
   "source": [
    "def sum_even(n):\n",
    "    '''\n",
    "    The function return the sum of even numbers \n",
    "    from given list\n",
    "    '''\n",
    "    sumlist=0\n",
    "    for i in n:\n",
    "        if i%2==0:\n",
    "            sumlist += i \n",
    "    return f\"sum of even numbers {sumlist}\"\n",
    "\n",
    "n = [1,2,3,4,5,6,7,8]\n",
    "sum_even(n)"
   ]
  },
  {
   "cell_type": "markdown",
   "metadata": {},
   "source": [
    "32. Implement a function to calculate the power of a number using recursion.\n"
   ]
  },
  {
   "cell_type": "code",
   "execution_count": 106,
   "metadata": {},
   "outputs": [
    {
     "name": "stdout",
     "output_type": "stream",
     "text": [
      "25\n"
     ]
    }
   ],
   "source": [
    "# Recursive function to find N^P.\n",
    "def power(N, P):\n",
    " \n",
    "    # If power is 0 then return 1\n",
    "    # if condition is true\n",
    "    # only then it will enter it,\n",
    "    # otherwise not\n",
    "    if P == 0:\n",
    "        return 1\n",
    " \n",
    "    # Recurrence relation\n",
    "    return (N*power(N, P-1))\n",
    "\n",
    "N = 5\n",
    "P = 2\n",
    "\n",
    "print(power(N, P))"
   ]
  },
  {
   "cell_type": "markdown",
   "metadata": {},
   "source": [
    "33. Write a Python program to remove duplicates from a list while preserving the order.\n"
   ]
  },
  {
   "cell_type": "code",
   "execution_count": 107,
   "metadata": {},
   "outputs": [
    {
     "data": {
      "text/plain": [
       "[1, 2, 3, 4, 444, 5]"
      ]
     },
     "execution_count": 107,
     "metadata": {},
     "output_type": "execute_result"
    }
   ],
   "source": [
    "def remove_duplicate(n):\n",
    "    \"\"\"\n",
    "    To remove the duplicates from the list\n",
    "    \"\"\"\n",
    "    new_num = [] \n",
    "    for i in n:\n",
    "        if i not in new_num:\n",
    "            new_num.append(i)\n",
    "    return new_num\n",
    "\n",
    "n = [1,1,1,1,2,3,4,444,5,5,5,4]\n",
    "remove_duplicate(n)\n"
   ]
  },
  {
   "cell_type": "markdown",
   "metadata": {},
   "source": [
    "34. Implement a function to find the longest common prefix among a list of strings.\n"
   ]
  },
  {
   "cell_type": "code",
   "execution_count": 109,
   "metadata": {},
   "outputs": [
    {
     "name": "stdout",
     "output_type": "stream",
     "text": [
      "Longest common prefix: min\n"
     ]
    }
   ],
   "source": [
    "def longest_common_prefix(arr):\n",
    "    # The longest common prefix of an empty array is \"\".\n",
    "    if not arr:\n",
    "        print(\"Longest common prefix:\", \"\")\n",
    "        # The longest common prefix of an array containing \n",
    "        # only one element is that element itself.\n",
    "    elif len(arr) == 1:\n",
    "        print(\"Longest common prefix:\", arr[0])\n",
    "    else:\n",
    "        # Sort the array\n",
    "        arr.sort()\n",
    "        result = \"\"\n",
    "    # Compare the first and the last string character\n",
    "    # by character.\n",
    "    for i in range(len(arr[0])):\n",
    "        #  If the characters match, append the character to\n",
    "        #  the result.\n",
    "        if arr[0][i] == arr[-1][i]:\n",
    "            result += arr[0][i]\n",
    "        # Else, stop the comparison\n",
    "        else:\n",
    "            break\n",
    "    print(\"Longest common prefix:\", result)\n",
    "\n",
    "arr = [\"mint\", \"mini\", \"mineral\"]\n",
    "longest_common_prefix(arr)"
   ]
  },
  {
   "cell_type": "markdown",
   "metadata": {},
   "source": [
    "35. Write a program to check if a given number is a perfect square.\n"
   ]
  },
  {
   "cell_type": "code",
   "execution_count": 115,
   "metadata": {},
   "outputs": [
    {
     "name": "stdout",
     "output_type": "stream",
     "text": [
      "No\n",
      "Yes\n"
     ]
    }
   ],
   "source": [
    "import math\n",
    " \n",
    " \n",
    "def isPerfectSquare(x):\n",
    " \n",
    "    #if x >= 0,\n",
    "    if(x >= 0):\n",
    "        sr = int(math.sqrt(x))\n",
    "        # sqrt function returns floating value so we have to convert it into integer\n",
    "        #return boolean T/F\n",
    "        return ((sr*sr) == x)\n",
    "    return False \n",
    " \n",
    "# Driver code\n",
    " \n",
    " \n",
    "x = 2502\n",
    "if (isPerfectSquare(x)):\n",
    "    print(\"Yes\")\n",
    "else:\n",
    "    print(\"No\")\n",
    "\n",
    "x = 144\n",
    "if (isPerfectSquare(x)):\n",
    "    print(\"Yes\")\n",
    "else:\n",
    "    print(\"No\")"
   ]
  },
  {
   "cell_type": "markdown",
   "metadata": {},
   "source": [
    "36. Implement a function to calculate the product of all elements in a list.\n"
   ]
  },
  {
   "cell_type": "code",
   "execution_count": 116,
   "metadata": {},
   "outputs": [
    {
     "data": {
      "text/plain": [
       "24"
      ]
     },
     "execution_count": 116,
     "metadata": {},
     "output_type": "execute_result"
    }
   ],
   "source": [
    "def multiply_element(n):\n",
    "    '''\n",
    "    Function To multiply all the elements in a list\n",
    "    '''\n",
    "    mul = 1 \n",
    "    for i in n:\n",
    "        mul *= i \n",
    "    return mul \n",
    "\n",
    "n = [1,2,3,4]\n",
    "multiply_element(n)"
   ]
  },
  {
   "cell_type": "markdown",
   "metadata": {},
   "source": [
    "37. Write a Python program to reverse the order of words in a sentence while preserving the word order.\n"
   ]
  },
  {
   "cell_type": "code",
   "execution_count": 117,
   "metadata": {},
   "outputs": [
    {
     "data": {
      "text/plain": [
       "'yeH ym eman si ykcor i ma gnisrever eht drow'"
      ]
     },
     "execution_count": 117,
     "metadata": {},
     "output_type": "execute_result"
    }
   ],
   "source": [
    "def reverse_words_of_Sentance(words):\n",
    "    '''\n",
    "    The function reverse words from a string \n",
    "    ex - \n",
    "    i/p 'hey you' \n",
    "    o/p 'yeh uoy';\n",
    "    '''\n",
    "    new_words = words.split(' ')\n",
    "    rev_words = ''\n",
    "    for i in new_words:\n",
    "        rev_words += i[::-1] + ' '\n",
    "    rev_words = rev_words[:-1]    \n",
    "    return rev_words \n",
    "\n",
    "words = 'Hey my name is rocky i am reversing the word'\n",
    "reverse_words_of_Sentance(words)"
   ]
  },
  {
   "cell_type": "markdown",
   "metadata": {},
   "source": [
    "38. Implement a function to find the missing number in a given list of consecutive numbers.\n"
   ]
  },
  {
   "cell_type": "code",
   "execution_count": 123,
   "metadata": {},
   "outputs": [
    {
     "name": "stdout",
     "output_type": "stream",
     "text": [
      "4\n"
     ]
    }
   ],
   "source": [
    "def findMissing(arr, N):\n",
    "    '''\n",
    "    Find Missing Element\n",
    "    '''\n",
    "    # create a list of zeroes\n",
    "    temp = [0] * (N+1)\n",
    " \n",
    "    for i in range(0, N):\n",
    "        temp[arr[i] - 1] = 1\n",
    " \n",
    "    for i in range(0, N+1):\n",
    "        if(temp[i] == 0):\n",
    "            ans = i + 1\n",
    "    print(ans)\n",
    " \n",
    "arr = [1, 2, 3, 5]\n",
    "N = len(arr)\n",
    "\n",
    "# Function call\n",
    "findMissing(arr, N)"
   ]
  },
  {
   "cell_type": "markdown",
   "metadata": {},
   "source": [
    "39. Write a program to find the sum of digits of a given number."
   ]
  },
  {
   "cell_type": "code",
   "execution_count": 121,
   "metadata": {},
   "outputs": [
    {
     "name": "stdout",
     "output_type": "stream",
     "text": [
      "21\n"
     ]
    },
    {
     "data": {
      "text/plain": [
       "16"
      ]
     },
     "execution_count": 121,
     "metadata": {},
     "output_type": "execute_result"
    }
   ],
   "source": [
    "def sum_list(n):\n",
    "    '''\n",
    "    Function to calculate the sum of digit in a number\n",
    "    ex - \n",
    "    i/p - 123\n",
    "    o/p - 6\n",
    "    '''\n",
    "    sum = 0\n",
    "    while (n != 0):\n",
    " \n",
    "        sum = sum + int(n % 10)\n",
    "        n = int(n/10)\n",
    " \n",
    "    return sum\n",
    " \n",
    "n = 687\n",
    "print(sum_list(n))\n",
    "\n",
    "n = 1645\n",
    "sum_list(n)"
   ]
  },
  {
   "cell_type": "markdown",
   "metadata": {},
   "source": [
    "40. Implement a function to check if a given string is a valid palindrome considering case sensitivity.\n"
   ]
  },
  {
   "cell_type": "code",
   "execution_count": 128,
   "metadata": {},
   "outputs": [
    {
     "name": "stdout",
     "output_type": "stream",
     "text": [
      "True\n"
     ]
    }
   ],
   "source": [
    "def palindrome(mystring):\n",
    "    '''\n",
    "    This function checks wheather a string is palindrome or not\n",
    "    considering the lower and the upper case \n",
    "    ex- \n",
    "    i/p : 'UPenepu'\n",
    "    o/p : yes\n",
    "    '''\n",
    "    rev = mystring[::-1]\n",
    "    # converting the all in lower case\n",
    "    rev = rev.lower()\n",
    "    # converting all into the lower case \n",
    "    mystring = mystring.lower()\n",
    "    # comparing \n",
    "    if mystring==rev:\n",
    "        return True\n",
    "    else:\n",
    "        return False \n",
    "    \n",
    "mystring = 'UPenepu'  \n",
    "print(palindrome(mystring))"
   ]
  },
  {
   "cell_type": "markdown",
   "metadata": {},
   "source": [
    "41. Write a Python program to find the smallest missing positive integer in a list.\n"
   ]
  },
  {
   "cell_type": "code",
   "execution_count": 132,
   "metadata": {},
   "outputs": [
    {
     "data": {
      "text/plain": [
       "4"
      ]
     },
     "execution_count": 132,
     "metadata": {},
     "output_type": "execute_result"
    }
   ],
   "source": [
    "def getsmallestmissingpositivenumber(a):\n",
    "    '''\n",
    "    Function smallest positive missing number\n",
    "    '''\n",
    "    found = False\n",
    "    n = len(a)\n",
    "    for i in range(1, n + 2):\n",
    "        found = False\n",
    "        for j in range(n):\n",
    "            if a[j] == i:\n",
    "                found = True\n",
    "                break\n",
    "        if found == False:\n",
    "            return i\n",
    "        \n",
    "a = [2, 3, -7, 6, 8, 1, -10, 15]\n",
    "getsmallestmissingpositivenumber(a)"
   ]
  },
  {
   "cell_type": "markdown",
   "metadata": {},
   "source": [
    "42. Implement a function to find the longest palindrome substring in a given string.\n"
   ]
  },
  {
   "cell_type": "code",
   "execution_count": 136,
   "metadata": {},
   "outputs": [
    {
     "name": "stdout",
     "output_type": "stream",
     "text": [
      "Longest palindrome substring is: aupendrardnepua\n",
      "Length is: 15\n"
     ]
    }
   ],
   "source": [
    "def printSubStr(str, low, high):\n",
    "    '''\n",
    "    longest palindrome\n",
    "    Function to print a subString str[low..high]\n",
    "    '''\n",
    "    for i in range(low, high + 1):\n",
    "        print(str[i], end=\"\")\n",
    " \n",
    "# longest palindrome subString\n",
    "# It also returns the length\n",
    "# of the longest palindrome\n",
    "def longestPalSubstr(str):\n",
    " \n",
    "    # Get length of input String\n",
    "    n = len(str)\n",
    " \n",
    "    # All subStrings of length 1 are palindromes\n",
    "    maxLength = 1\n",
    "    start = 0\n",
    " \n",
    "    # Nested loop to mark start and end index\n",
    "    for i in range(n):\n",
    "        for j in range(i, n):\n",
    "            flag = 1\n",
    " \n",
    "            # Check palindrome\n",
    "            for k in range(0, ((j - i) // 2) + 1):\n",
    "                if (str[i + k] != str[j - k]):\n",
    "                    flag = 0\n",
    " \n",
    "            # Palindrome\n",
    "            if (flag != 0 and (j - i + 1) > maxLength):\n",
    "                start = i\n",
    "                maxLength = j - i + 1\n",
    " \n",
    "    print(\"Longest palindrome substring is: \", end=\"\")\n",
    "    printSubStr(str, start, start + maxLength - 1)\n",
    " \n",
    "    # Return length of LPS\n",
    "    return maxLength\n",
    "\n",
    "str = \"aupendrardnepuaaa\"\n",
    "print(\"\\nLength is:\", longestPalSubstr(str))"
   ]
  },
  {
   "cell_type": "markdown",
   "metadata": {},
   "source": [
    "43. Write a program to find the number of occurrences of a given element in a list.\n"
   ]
  },
  {
   "cell_type": "code",
   "execution_count": 140,
   "metadata": {},
   "outputs": [
    {
     "name": "stdout",
     "output_type": "stream",
     "text": [
      "8 has occurred 5 times\n"
     ]
    }
   ],
   "source": [
    "def countX(lst, x):\n",
    "    '''\n",
    "    Python code to count the number of occurrences\n",
    "    '''\n",
    "    count = 0\n",
    "    for ele in lst:\n",
    "        if (ele == x):\n",
    "            count = count + 1\n",
    "    return count\n",
    " \n",
    "lst = [8, 6, 6, 8, 10, 8, 20, 10, 8, 8]\n",
    "x = 8\n",
    "print('{} has occurred {} times'.format(x, countX(lst, x)))"
   ]
  },
  {
   "cell_type": "markdown",
   "metadata": {},
   "source": [
    "44. Implement a function to check if a given number is a perfect number.\n"
   ]
  },
  {
   "cell_type": "code",
   "execution_count": 146,
   "metadata": {},
   "outputs": [
    {
     "name": "stdout",
     "output_type": "stream",
     "text": [
      "28 is a perfect number True\n",
      "21 is not a perfect number False\n",
      "496 is a perfect number True\n",
      "\n",
      "Below are all perfect numbers till 10000\n",
      "6  is a perfect number\n",
      "28  is a perfect number\n",
      "496  is a perfect number\n",
      "8128  is a perfect number\n"
     ]
    }
   ],
   "source": [
    "def perfect_number(n):\n",
    "    '''\n",
    "    function to check if a given \n",
    "    number is a perfect number or not\n",
    "    '''\n",
    "    # To store sum of divisors\n",
    "    sum = 1\n",
    "     \n",
    "    # Find all divisors and add them\n",
    "    i = 2\n",
    "    while i * i <= n:\n",
    "        if n % i == 0:\n",
    "            sum = sum + i + n/i\n",
    "        i += 1\n",
    "     \n",
    "    # If sum of divisors is equal to\n",
    "    # n, then n is a perfect number\n",
    "     \n",
    "    return (True if sum == n and n!=1 else False)\n",
    " \n",
    "\n",
    "print(f'28 is a perfect number {perfect_number(28)}')\n",
    "print(f'21 is not a perfect number {perfect_number(21)}')\n",
    "print(f'496 is a perfect number {perfect_number(496)}')\n",
    "print()\n",
    "print(\"Below are all perfect numbers till 10000\")\n",
    "n = 2\n",
    "for n in range(10000):\n",
    "    if perfect_number(n):\n",
    "        print(n , \" is a perfect number\")\n",
    "\n"
   ]
  },
  {
   "cell_type": "markdown",
   "metadata": {},
   "source": [
    "45. Write a Python program to remove all duplicates from a string.\n"
   ]
  },
  {
   "cell_type": "code",
   "execution_count": 151,
   "metadata": {},
   "outputs": [
    {
     "data": {
      "text/plain": [
       "'asrocky/upend igt'"
      ]
     },
     "execution_count": 151,
     "metadata": {},
     "output_type": "execute_result"
    }
   ],
   "source": [
    "def strremduplicates(s):\n",
    "    '''\n",
    "    remove all duplicate from a given string\n",
    "    '''\n",
    "    ss = ''\n",
    "    for i in s: \n",
    "        if i not in ss:\n",
    "            ss+=i \n",
    "    return ss \n",
    "\n",
    "s = 'aaaasrocky/upendra is great'\n",
    "strremduplicates(s)"
   ]
  },
  {
   "cell_type": "markdown",
   "metadata": {},
   "source": [
    "46. Implement a function to find the first missing positive\n"
   ]
  },
  {
   "cell_type": "code",
   "execution_count": 153,
   "metadata": {},
   "outputs": [
    {
     "data": {
      "text/plain": [
       "1"
      ]
     },
     "execution_count": 153,
     "metadata": {},
     "output_type": "execute_result"
    }
   ],
   "source": [
    "def first_missing_positive(X,n):\n",
    "    for i in range(1, n+2):\n",
    "        missing_flag = True \n",
    "        for j in range(n):\n",
    "            if X[j] == i:\n",
    "                missing_flag = False \n",
    "                break \n",
    "        if missing_flag:\n",
    "            return i \n",
    "        \n",
    "a = [4,6,5,3,8]\n",
    "n = len(a)\n",
    "first_missing_positive(a, n)"
   ]
  },
  {
   "cell_type": "code",
   "execution_count": null,
   "metadata": {},
   "outputs": [],
   "source": []
  }
 ],
 "metadata": {
  "kernelspec": {
   "display_name": "Python 3",
   "language": "python",
   "name": "python3"
  },
  "language_info": {
   "codemirror_mode": {
    "name": "ipython",
    "version": 3
   },
   "file_extension": ".py",
   "mimetype": "text/x-python",
   "name": "python",
   "nbconvert_exporter": "python",
   "pygments_lexer": "ipython3",
   "version": "3.10.6"
  },
  "orig_nbformat": 4
 },
 "nbformat": 4,
 "nbformat_minor": 2
}
