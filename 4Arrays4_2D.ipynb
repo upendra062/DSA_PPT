{
 "cells": [
  {
   "attachments": {},
   "cell_type": "markdown",
   "id": "7258ab6d",
   "metadata": {},
   "source": [
    "# Assignment Question 4"
   ]
  },
  {
   "attachments": {},
   "cell_type": "markdown",
   "id": "184de188",
   "metadata": {},
   "source": [
    "<aside>\n",
    "\n",
    "**Question 1**\n",
    "\n",
    "Given three integer arrays arr1, arr2 and arr3 **sorted** in **strictly increasing** order, return a sorted array of **only** the integers that appeared in **all** three arrays.\n",
    "\n",
    "**Example 1:**\n",
    "\n",
    "Input: arr1 = [1,2,3,4,5], arr2 = [1,2,5,7,9], arr3 = [1,3,4,5,8]\n",
    "\n",
    "Output: [1,5]\n",
    "\n",
    "**Explanation:** Only 1 and 5 appeared in the three arrays.\n",
    "\n",
    "</aside>"
   ]
  },
  {
   "cell_type": "code",
   "execution_count": 7,
   "id": "c82cdfc6",
   "metadata": {},
   "outputs": [
    {
     "name": "stdout",
     "output_type": "stream",
     "text": [
      "Common elements are\n",
      "[1, 5]\n"
     ]
    }
   ],
   "source": [
    "\n",
    "# Python function to print common elements in three sorted arrays\n",
    "def findCommon(ar1, ar2, ar3, n1, n2, n3):\n",
    " \n",
    "    # Initialize starting indexes for ar1[], ar2[] and ar3[]\n",
    "    i, j, k = 0, 0, 0\n",
    "    l = []\n",
    "    # Iterate through three arrays while all arrays have elements\n",
    "    while (i < n1 and j < n2 and k < n3):\n",
    " \n",
    "        # If x = y and y = z, print any of them and move ahead\n",
    "        # in all arrays\n",
    "        if (ar1[i] == ar2[j] and ar2[j] == ar3[k]):\n",
    "            # print(ar1[i])\n",
    "            l.append(ar1[i])\n",
    "            \n",
    "            # print(ar1[i], end=\" \")\n",
    "            i += 1\n",
    "            j += 1\n",
    "            k += 1\n",
    " \n",
    "        # x < y\n",
    "        elif ar1[i] < ar2[j]:\n",
    "            i += 1\n",
    " \n",
    "        # y < z\n",
    "        elif ar2[j] < ar3[k]:\n",
    "            j += 1\n",
    " \n",
    "        # We reach here when x > y and z < y, i.e., z is smallest\n",
    "        else:\n",
    "            k += 1\n",
    "    print(l)\n",
    "\n",
    "ar1 = [1,2,3,4,5]\n",
    "ar2 = [1,2,5,7,9]\n",
    "ar3 = [1,3,4,5,8]\n",
    "\n",
    "n1 = len(ar1)\n",
    "n2 = len(ar2)\n",
    "n3 = len(ar3)\n",
    "print(\"Common elements are\")\n",
    "findCommon(ar1, ar2, ar3, n1, n2, n3)"
   ]
  },
  {
   "attachments": {},
   "cell_type": "markdown",
   "id": "12d60361",
   "metadata": {},
   "source": [
    "<aside>\n",
    "\n",
    "**Question 2**\n",
    "\n",
    "Given two **0-indexed** integer arrays nums1 and nums2, return *a list* answer *of size* 2 *where:*\n",
    "\n",
    "- answer[0] *is a list of all **distinct** integers in* nums1 *which are **not** present in* nums2*.*\n",
    "- answer[1] *is a list of all **distinct** integers in* nums2 *which are **not** present in* nums1.\n",
    "\n",
    "**Note** that the integers in the lists may be returned in **any** order.\n",
    "\n",
    "**Example 1:**\n",
    "\n",
    "**Input:** nums1 = [1,2,3], nums2 = [2,4,6]\n",
    "\n",
    "**Output:** [[1,3],[4,6]]\n",
    "\n",
    "**Explanation:**\n",
    "\n",
    "For nums1, nums1[1] = 2 is present at index 0 of nums2, whereas nums1[0] = 1 and nums1[2] = 3 are not present in nums2. Therefore, answer[0] = [1,3].\n",
    "\n",
    "For nums2, nums2[0] = 2 is present at index 1 of nums1, whereas nums2[1] = 4 and nums2[2] = 6 are not present in nums2. Therefore, answer[1] = [4,6].\n",
    "\n",
    "</aside>"
   ]
  },
  {
   "cell_type": "code",
   "execution_count": 11,
   "id": "56602c2e",
   "metadata": {},
   "outputs": [
    {
     "data": {
      "text/plain": [
       "[[1, 3], [4, 6]]"
      ]
     },
     "execution_count": 11,
     "metadata": {},
     "output_type": "execute_result"
    }
   ],
   "source": [
    "from typing import List\n",
    "\n",
    "class Solution:\n",
    "    def findDifference(self, nums1: List[int], nums2: List[int]) -> List[List[int]]:\n",
    "         set1,set2=set(nums1),set(nums2)\n",
    "         return[list(set1-set2),list(set2-set1)]\n",
    "\n",
    "# # #other possible answer for this problem is\n",
    "# class Solution:\n",
    "#     def findDifference(self, nums1: List[int], nums2: List[int]) -> List[List[int]]:\n",
    "#         set1=set(nums1)\n",
    "#         set2=set(nums2)\n",
    "#         res=[[],[]]\n",
    "\n",
    "#         for i in set1:\n",
    "#             if i not in set2:\n",
    "#                 res[0].append(i)\n",
    "#         for i in set2:\n",
    "#             if i not in set1:\n",
    "#                 res[1].append(i)\n",
    "#         return res\n",
    "\n",
    "# # #other possible answer for this problem\n",
    "# class Solution:\n",
    "#     def findDifference(self, nums1: List[int], nums2: List[int]) -> List[List[int]]:\n",
    "#         set1,set2=set(nums1),set(nums2)\n",
    "#         return[set1-set2,set2-set1]\n",
    "    \n",
    "nums1 = [1,2,3]\n",
    "nums2 = [2,4,6]\n",
    " \n",
    "ob = Solution()\n",
    "ob.findDifference(nums1, nums2)"
   ]
  },
  {
   "attachments": {},
   "cell_type": "markdown",
   "id": "0b587004",
   "metadata": {},
   "source": [
    "<aside>\n",
    "    \n",
    "**Question 3**\n",
    "    \n",
    "Given a 2D integer array matrix, return *the **transpose** of* matrix.\n",
    "\n",
    "The **transpose** of a matrix is the matrix flipped over its main diagonal, switching the matrix's row and column indices.\n",
    "\n",
    "**Example 1:**\n",
    "\n",
    "Input: matrix = [[1,2,3],[4,5,6],[7,8,9]]\n",
    "\n",
    "Output: [[1,4,7],[2,5,8],[3,6,9]]\n",
    "    \n",
    "<img src=\"img/iamge_v3.png\" style=\"max_width=100%\" />     \n",
    "\n",
    "</aside>"
   ]
  },
  {
   "cell_type": "code",
   "execution_count": 12,
   "id": "8b4b572b",
   "metadata": {},
   "outputs": [
    {
     "data": {
      "text/plain": [
       "[[1, 4, 7], [2, 5, 8], [3, 6, 9]]"
      ]
     },
     "execution_count": 12,
     "metadata": {},
     "output_type": "execute_result"
    }
   ],
   "source": [
    "class Solution:\n",
    "    def transpose(self, matrix: List[List[int]]) -> List[List[int]]:\n",
    "        m,n=len(matrix),len(matrix[0])\n",
    "        ans = [[None] * m for _ in range(n)]\n",
    "        for i in range(m):\n",
    "            for j in range(n):\n",
    "                ans[j][i]=matrix[i][j]\n",
    "        \n",
    "        return ans\n",
    "    \n",
    "matrix = [[1,2,3],[4,5,6],[7,8,9]]    \n",
    "\n",
    "ob = Solution()\n",
    "ob.transpose(matrix)"
   ]
  },
  {
   "attachments": {},
   "cell_type": "markdown",
   "id": "fc9e8e2c",
   "metadata": {},
   "source": [
    "<aside>\n",
    "\n",
    "**Question 4**\n",
    "\n",
    "Given an integer array nums of 2n integers, group these integers into n pairs (a1, b1), (a2, b2), ..., (an, bn) such that the sum of min(ai, bi) for all i is **maximized**. Return *the maximized sum*.\n",
    "\n",
    "**Example 1:**\n",
    "\n",
    "Input: nums = [1,4,3,2]\n",
    "\n",
    "Output: 4\n",
    "\n",
    "**Explanation:** All possible pairings (ignoring the ordering of elements) are:\n",
    "\n",
    "1. (1, 4), (2, 3) -> min(1, 4) + min(2, 3) = 1 + 2 = 3\n",
    "\n",
    "2. (1, 3), (2, 4) -> min(1, 3) + min(2, 4) = 1 + 2 = 3\n",
    "\n",
    "3. (1, 2), (3, 4) -> min(1, 2) + min(3, 4) = 1 + 3 = 4\n",
    "\n",
    "So the maximum possible sum is 4.\n",
    "\n",
    "</aside>"
   ]
  },
  {
   "cell_type": "code",
   "execution_count": 13,
   "id": "4a32a212",
   "metadata": {},
   "outputs": [
    {
     "data": {
      "text/plain": [
       "4"
      ]
     },
     "execution_count": 13,
     "metadata": {},
     "output_type": "execute_result"
    }
   ],
   "source": [
    "class Solution:\n",
    "    def arrayPairSum(self, nums: List[int]) -> int:\n",
    "        # nums.sort()\n",
    "        # s=0\n",
    "        # for i in range(0,len(nums),2):\n",
    "        #     s+=min(nums[i],nums[i+1])\n",
    "        # return s\n",
    "        return sum(sorted(nums)[::2])\n",
    "    \n",
    "nums = [1,4,3,2]\n",
    "\n",
    "ob = Solution()\n",
    "ob.arrayPairSum(nums)"
   ]
  },
  {
   "attachments": {},
   "cell_type": "markdown",
   "id": "5b47eca6",
   "metadata": {},
   "source": [
    "<aside>\n",
    "\n",
    "**Question 5**\n",
    "\n",
    "You have n coins and you want to build a staircase with these coins. The staircase consists of k rows where the ith row has exactly i coins. The last row of the staircase **may be** incomplete.\n",
    "\n",
    "Given the integer n, return *the number of **complete rows** of the staircase you will build*.\n",
    "\n",
    "**Example 1:**\n",
    "\n",
    "<img src=\"img/v2.jpg\" style=\"width:300px;height:200px\">    \n",
    "    \n",
    "**Input:** n = 5\n",
    "\n",
    "**Output:** 2\n",
    "\n",
    "**Explanation:** Because the 3rd row is incomplete, we return 2.   \n",
    "    \n",
    "</aside>"
   ]
  },
  {
   "cell_type": "code",
   "execution_count": 14,
   "id": "92fdac1c",
   "metadata": {},
   "outputs": [
    {
     "data": {
      "text/plain": [
       "2"
      ]
     },
     "execution_count": 14,
     "metadata": {},
     "output_type": "execute_result"
    }
   ],
   "source": [
    "from bisect import bisect_left\n",
    "\n",
    "class Solution:\n",
    "    def arrangeCoins(self, n: int) -> int:\n",
    "        ans= bisect_left(range(1,n),n,key=lambda x:x*(x+1)//2)+1\n",
    "        if ans*(ans+1)//2==n:\n",
    "            return ans\n",
    "        return ans-1\n",
    "    \n",
    "n = 5    \n",
    "\n",
    "ob = Solution()\n",
    "ob.arrangeCoins(n)"
   ]
  },
  {
   "attachments": {},
   "cell_type": "markdown",
   "id": "834212bf",
   "metadata": {},
   "source": [
    "<aside>\n",
    "\n",
    "**Question 6**\n",
    "\n",
    "Given an integer array nums sorted in **non-decreasing** order, return *an array of **the squares of each number** sorted in non-decreasing order*.\n",
    "\n",
    "**Example 1:**\n",
    "\n",
    "Input: nums = [-4,-1,0,3,10]\n",
    "\n",
    "Output: [0,1,9,16,100]\n",
    "    \n",
    "**Explanation:** After squaring, the array becomes [16,1,0,9,100].\n",
    "After sorting, it becomes [0,1,9,16,100]\n",
    "\n",
    "</aside>"
   ]
  },
  {
   "cell_type": "code",
   "execution_count": 16,
   "id": "952f789d",
   "metadata": {},
   "outputs": [
    {
     "data": {
      "text/plain": [
       "[0, 1, 9, 16, 100]"
      ]
     },
     "execution_count": 16,
     "metadata": {},
     "output_type": "execute_result"
    }
   ],
   "source": [
    "class Solution:\n",
    "    def sortedSquares(self, A: List[int]) -> List[int]:\n",
    "            for i in range(len(A)):\n",
    "                A[i] *= A[i]\n",
    "            A.sort()\n",
    "            return A\n",
    "A = [-4,-1,0,3,10]\n",
    "ob = Solution()\n",
    "ob.sortedSquares(A)"
   ]
  },
  {
   "attachments": {},
   "cell_type": "markdown",
   "id": "90857ad6",
   "metadata": {},
   "source": [
    "<aside>\n",
    "\n",
    "**Question 7**\n",
    "\n",
    "You are given an m x n matrix M initialized with all 0's and an array of operations ops, where ops[i] = [ai, bi] means M[x][y] should be incremented by one for all 0 <= x < ai and 0 <= y < bi.\n",
    "\n",
    "Count and return *the number of maximum integers in the matrix after performing all the operations*\n",
    "\n",
    "**Example 1:**\n",
    "<img src=\"img/q4.jpg\" style=\"max_width:100%\" >    \n",
    "    \n",
    "**Input:** m = 3, n = 3, ops = [[2,2],[3,3]]\n",
    "\n",
    "**Output:** 4\n",
    "\n",
    "**Explanation:** The maximum integer in M is 2, and there are four of it in M. So return 4.\n",
    "    \n",
    "</aside>"
   ]
  },
  {
   "cell_type": "code",
   "execution_count": 17,
   "id": "4534b055",
   "metadata": {},
   "outputs": [
    {
     "data": {
      "text/plain": [
       "4"
      ]
     },
     "execution_count": 17,
     "metadata": {},
     "output_type": "execute_result"
    }
   ],
   "source": [
    "class Solution:\n",
    "    def maxCount(self, m: int, n: int, ops: List[List[int]]) -> int:\n",
    "        length = len(ops)\n",
    "        if length == 0:\n",
    "            return m*n\n",
    "        result = [ops[0][0] , ops[0][1]]\n",
    "        for i in range(1,length):\n",
    "            result[0] = min(result[0] , ops[i][0])\n",
    "            result[1] = min(result[1] , ops[i][1])\n",
    "        return result[0]*result[1] \n",
    "    \n",
    "m = 3\n",
    "n = 3\n",
    "ops = [[2,2],[3,3]]    \n",
    "\n",
    "ob = Solution()\n",
    "ob.maxCount(m,n,ops)"
   ]
  },
  {
   "attachments": {},
   "cell_type": "markdown",
   "id": "bd5e53d0",
   "metadata": {},
   "source": [
    "<aside>\n",
    "\n",
    "**Question 8**\n",
    "\n",
    "Given the array nums consisting of 2n elements in the form [x1,x2,...,xn,y1,y2,...,yn].\n",
    "\n",
    "*Return the array in the form* [x1,y1,x2,y2,...,xn,yn].\n",
    "\n",
    "**Example 1:**\n",
    "\n",
    "**Input:** nums = [2,5,1,3,4,7], n = 3\n",
    "\n",
    "**Output:** [2,3,5,4,1,7]\n",
    "\n",
    "**Explanation:** Since x1=2, x2=5, x3=1, y1=3, y2=4, y3=7 then the answer is [2,3,5,4,1,7].\n",
    "\n",
    "</aside>"
   ]
  },
  {
   "cell_type": "code",
   "execution_count": 18,
   "id": "f50789e8",
   "metadata": {},
   "outputs": [
    {
     "data": {
      "text/plain": [
       "[2, 3, 5, 4, 1, 7]"
      ]
     },
     "execution_count": 18,
     "metadata": {},
     "output_type": "execute_result"
    }
   ],
   "source": [
    "class Solution:\n",
    "    def shuffle(self, nums: List[int], n: int) -> List[int]:\n",
    "        arr1=[]\n",
    "        arr2=[]\n",
    "        arr3=[]\n",
    "        for i in range(n):\n",
    "            arr1.append(nums[i])\n",
    "        for i in range(n,2*n):\n",
    "            arr2.append(nums[i])\n",
    "        for i in range(n):\n",
    "            arr3.append(arr1[i])\n",
    "            arr3.append(arr2[i])\n",
    "        return arr3\n",
    "\n",
    "nums = [2,5,1,3,4,7]\n",
    "n = 3\n",
    "\n",
    "ob = Solution()\n",
    "ob.shuffle(nums, n)"
   ]
  },
  {
   "cell_type": "code",
   "execution_count": null,
   "id": "4f5215cb",
   "metadata": {},
   "outputs": [],
   "source": []
  }
 ],
 "metadata": {
  "kernelspec": {
   "display_name": "Python 3 (ipykernel)",
   "language": "python",
   "name": "python3"
  },
  "language_info": {
   "codemirror_mode": {
    "name": "ipython",
    "version": 3
   },
   "file_extension": ".py",
   "mimetype": "text/x-python",
   "name": "python",
   "nbconvert_exporter": "python",
   "pygments_lexer": "ipython3",
   "version": "3.10.6"
  }
 },
 "nbformat": 4,
 "nbformat_minor": 5
}
