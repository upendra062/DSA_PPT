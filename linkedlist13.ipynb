{
 "cells": [
  {
   "cell_type": "markdown",
   "metadata": {},
   "source": [
    "# Assignment Questions 13"
   ]
  },
  {
   "cell_type": "markdown",
   "metadata": {},
   "source": [
    "**Question 1**\n",
    "\n",
    "Given two linked list of the same size, the task is to create a new linked list using those linked lists. The condition is that the greater node among both linked list will be added to the new linked list.\n",
    "\n",
    "**Examples:**\n",
    "```    \n",
    "Input: list1 = 5->2->3->8\n",
    "list2 = 1->7->4->5\n",
    "Output: New list = 5->7->4->8\n",
    "\n",
    "Input:list1 = 2->8->9->3\n",
    "list2 = 5->3->6->4\n",
    "Output: New list = 5->8->9->4    \n",
    "```"
   ]
  },
  {
   "cell_type": "code",
   "execution_count": 1,
   "metadata": {},
   "outputs": [
    {
     "name": "stdout",
     "output_type": "stream",
     "text": [
      "First List:  5 -> 2 -> 3 -> 8 ->  \n",
      "Second List:  1 -> 7 -> 4 -> 5 ->  \n",
      "New List:  5 -> 7 -> 4 -> 8 ->  \n"
     ]
    }
   ],
   "source": [
    "# Python3 program to create a\n",
    "# new linked list from two given\n",
    "# linked list of the same size with\n",
    "# the greater element among the two\n",
    "# at each node\n",
    " \n",
    "# Node class\n",
    "class Node:\n",
    " \n",
    "    # Function to initialise the node object\n",
    "    def __init__(self, data):\n",
    "        self.data = data\n",
    "        self.next = None\n",
    " \n",
    "# Function to insert node in a linked list\n",
    "def insert(root, item):\n",
    " \n",
    "    temp = Node(0)\n",
    "    temp.data = item\n",
    "    temp.next = None\n",
    " \n",
    "    if (root == None):\n",
    "        root = temp\n",
    "    else :\n",
    "        ptr = root\n",
    "        while (ptr.next != None):\n",
    "            ptr = ptr.next\n",
    " \n",
    "        ptr.next = temp\n",
    "         \n",
    "    return root\n",
    " \n",
    "# Function which returns new linked list\n",
    "def newList(root1, root2):\n",
    " \n",
    "    ptr1 = root1\n",
    "    ptr2 = root2\n",
    "     \n",
    "    root = None\n",
    "    while (ptr1 != None) :\n",
    "        temp = Node(0)\n",
    "        temp.next = None\n",
    " \n",
    "        # Compare for greater node\n",
    "        if (ptr1.data < ptr2.data):\n",
    "            temp.data = ptr2.data\n",
    "        else:\n",
    "            temp.data = ptr1.data\n",
    " \n",
    "        if (root == None):\n",
    "            root = temp\n",
    "        else :\n",
    "            ptr = root\n",
    "            while (ptr.next != None):\n",
    "                ptr = ptr.next\n",
    " \n",
    "            ptr.next = temp\n",
    "         \n",
    "        ptr1 = ptr1.next\n",
    "        ptr2 = ptr2.next\n",
    "     \n",
    "    return root\n",
    " \n",
    "def display(root):\n",
    " \n",
    "    while (root != None) :\n",
    "        print(root.data, \"->\", end = \" \")\n",
    "        root = root.next\n",
    "     \n",
    "    print(\" \")\n",
    " \n",
    "# Driver Code\n",
    "if __name__=='__main__':\n",
    " \n",
    "    root1 = None\n",
    "    root2 = None\n",
    "    root = None\n",
    " \n",
    "    # First linked list\n",
    "    root1 = insert(root1, 5)\n",
    "    root1 = insert(root1, 2)\n",
    "    root1 = insert(root1, 3)\n",
    "    root1 = insert(root1, 8)\n",
    " \n",
    "    print(\"First List: \", end = \" \")\n",
    "    display(root1)\n",
    " \n",
    "    # Second linked list\n",
    "    root2 = insert(root2, 1)\n",
    "    root2 = insert(root2, 7)\n",
    "    root2 = insert(root2, 4)\n",
    "    root2 = insert(root2, 5)\n",
    " \n",
    "    print(\"Second List: \", end = \" \")\n",
    "    display(root2)\n",
    " \n",
    "    root = newList(root1, root2)\n",
    "    print(\"New List: \", end = \" \")\n",
    "    display(root)\n"
   ]
  },
  {
   "cell_type": "code",
   "execution_count": null,
   "metadata": {},
   "outputs": [],
   "source": []
  },
  {
   "cell_type": "code",
   "execution_count": null,
   "metadata": {},
   "outputs": [],
   "source": []
  },
  {
   "cell_type": "code",
   "execution_count": null,
   "metadata": {},
   "outputs": [],
   "source": []
  },
  {
   "cell_type": "code",
   "execution_count": null,
   "metadata": {},
   "outputs": [],
   "source": []
  },
  {
   "cell_type": "code",
   "execution_count": null,
   "metadata": {},
   "outputs": [],
   "source": []
  },
  {
   "cell_type": "code",
   "execution_count": null,
   "metadata": {},
   "outputs": [],
   "source": []
  },
  {
   "cell_type": "code",
   "execution_count": null,
   "metadata": {},
   "outputs": [],
   "source": []
  },
  {
   "cell_type": "code",
   "execution_count": null,
   "metadata": {},
   "outputs": [],
   "source": []
  },
  {
   "cell_type": "code",
   "execution_count": null,
   "metadata": {},
   "outputs": [],
   "source": []
  },
  {
   "cell_type": "code",
   "execution_count": null,
   "metadata": {},
   "outputs": [],
   "source": []
  },
  {
   "cell_type": "code",
   "execution_count": null,
   "metadata": {},
   "outputs": [],
   "source": []
  },
  {
   "cell_type": "code",
   "execution_count": null,
   "metadata": {},
   "outputs": [],
   "source": []
  },
  {
   "cell_type": "code",
   "execution_count": null,
   "metadata": {},
   "outputs": [],
   "source": []
  },
  {
   "cell_type": "code",
   "execution_count": null,
   "metadata": {},
   "outputs": [],
   "source": []
  }
 ],
 "metadata": {
  "kernelspec": {
   "display_name": "Python 3",
   "language": "python",
   "name": "python3"
  },
  "language_info": {
   "codemirror_mode": {
    "name": "ipython",
    "version": 3
   },
   "file_extension": ".py",
   "mimetype": "text/x-python",
   "name": "python",
   "nbconvert_exporter": "python",
   "pygments_lexer": "ipython3",
   "version": "3.10.6"
  },
  "orig_nbformat": 4
 },
 "nbformat": 4,
 "nbformat_minor": 2
}
