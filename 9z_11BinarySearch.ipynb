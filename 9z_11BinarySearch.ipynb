{
 "cells": [
  {
   "attachments": {},
   "cell_type": "markdown",
   "id": "b7fc60c3",
   "metadata": {},
   "source": [
    "# Assignment Questions 11"
   ]
  },
  {
   "attachments": {},
   "cell_type": "markdown",
   "id": "8402c133",
   "metadata": {},
   "source": [
    "<aside>\n",
    "    \n",
    "**Question 1**\n",
    "\n",
    "Given a non-negative integer `x`, return *the square root of* `x` *rounded down to the nearest integer*. The returned integer should be **non-negative** as well.\n",
    "\n",
    "You **must not use** any built-in exponent function or operator.\n",
    "\n",
    "- For example, do not use `pow(x, 0.5)` in c++ or `x ** 0.5` in python.\n",
    "\n",
    "**Example 1:**\n",
    "\n",
    "```\n",
    "Input: x = 4\n",
    "Output: 2\n",
    "Explanation: The square root of 4 is 2, so we return 2.\n",
    "\n",
    "```\n",
    "\n",
    "**Example 2:**\n",
    "```\n",
    "Input: x = 8\n",
    "Output: 2\n",
    "Explanation: The square root of 8 is 2.82842..., and since we round it down to the nearest integer, 2 is returned.\n",
    "\n",
    "```\n",
    "    \n",
    "</aside>"
   ]
  },
  {
   "cell_type": "code",
   "execution_count": 6,
   "id": "f61cc234",
   "metadata": {},
   "outputs": [
    {
     "name": "stdout",
     "output_type": "stream",
     "text": [
      "2\n",
      "2\n"
     ]
    }
   ],
   "source": [
    "def floorSqrt(x):\n",
    "    if (x == 0 or x == 1):\n",
    "        return x\n",
    "\n",
    "    # Starting from 1, try all numbers until\n",
    "    # i*i is greater than or equal to x.\n",
    "    i = 1\n",
    "    result = 1\n",
    "    while (result <= x):\n",
    "        i += 1\n",
    "        result = i * i\n",
    "    return i - 1\n",
    " \n",
    "x = 4\n",
    "# x = 8\n",
    "# x = 11    \n",
    "print(floorSqrt(x))\n",
    "print(floorSqrt(8))"
   ]
  },
  {
   "cell_type": "code",
   "execution_count": null,
   "id": "f98f4355",
   "metadata": {},
   "outputs": [],
   "source": []
  },
  {
   "attachments": {},
   "cell_type": "markdown",
   "id": "18f01c5a",
   "metadata": {},
   "source": [
    "<aside>\n",
    "    \n",
    "**Question 2**\n",
    "\n",
    "A peak element is an element that is strictly greater than its neighbors.\n",
    "\n",
    "Given a **0-indexed** integer array `nums`, find a peak element, and return its index. If the array contains multiple peaks, return the index to **any of the peaks**.\n",
    "\n",
    "You may imagine that `nums[-1] = nums[n] = -∞`. In other words, an element is always considered to be strictly greater than a neighbor that is outside the array.\n",
    "\n",
    "You must write an algorithm that runs in `O(log n)` time.\n",
    "\n",
    "**Example 1:**\n",
    "\n",
    "```\n",
    "Input: nums = [1,2,3,1]\n",
    "Output: 2\n",
    "Explanation: 3 is a peak element and your function should return the index number 2.\n",
    "```\n",
    "\n",
    "**Example 2:**\n",
    "```\n",
    "Input: nums = [1,2,1,3,5,6,4]\n",
    "Output: 5\n",
    "Explanation: Your function can return either index number 1 where the peak element is 2, or index number 5 where the peak element is 6.    \n",
    "```\n",
    "    \n",
    "</aside>"
   ]
  },
  {
   "cell_type": "code",
   "execution_count": 8,
   "id": "c479f431",
   "metadata": {},
   "outputs": [
    {
     "name": "stdout",
     "output_type": "stream",
     "text": [
      "2\n",
      "5\n"
     ]
    }
   ],
   "source": [
    "from typing import List \n",
    "\n",
    "class Solution:\n",
    "    def findPeakElement(self, nums: List[int]) -> int:\n",
    "        n = len(nums)\n",
    "        l, r = 0, n - 1\n",
    "        while l < r:\n",
    "            mid = (l + r) >> 1\n",
    "            if nums[mid] < nums[mid + 1]:\n",
    "                l =  mid + 1\n",
    "            else:\n",
    "                r = mid \n",
    "        return l\n",
    "    \n",
    "nums = [1,2,3,1]\n",
    "\n",
    "ob = Solution()\n",
    "print(ob.findPeakElement(nums))\n",
    "print(ob.findPeakElement([1,2,1,3,5,6,4]))"
   ]
  },
  {
   "cell_type": "code",
   "execution_count": null,
   "id": "6c67974f",
   "metadata": {},
   "outputs": [],
   "source": []
  },
  {
   "attachments": {},
   "cell_type": "markdown",
   "id": "01a556fb",
   "metadata": {},
   "source": [
    "<aside>\n",
    "\n",
    "**Question 3**\n",
    "\n",
    "****\n",
    "\n",
    "Given an array `nums` containing `n` distinct numbers in the range `[0, n]`, return *the only number in the range that is missing from the array.*\n",
    "\n",
    "**Example 1:**\n",
    "```\n",
    "Input: nums = [3,0,1]\n",
    "Output: 2\n",
    "Explanation: n = 3 since there are 3 numbers, so all numbers are in the range [0,3]. 2 is the missing number in the range since it does not appear in nums.\n",
    "\n",
    "```    \n",
    "**Example 2:**\n",
    "```\n",
    "Input: nums = [0,1]\n",
    "Output: 2\n",
    "Explanation: n = 2 since there are 2 numbers, so all numbers are in the range [0,2]. 2 is the missing number in the range since it does not appear in nums.\n",
    "\n",
    "```    \n",
    "**Example 3:**\n",
    "```\n",
    "Input: nums = [9,6,4,2,3,5,7,0,1]\n",
    "Output: 8\n",
    "Explanation: n = 9 since there are 9 numbers, so all numbers are in the range [0,9]. 8 is the missing number in the range since it does not appear in nums.\n",
    "```        \n",
    "    \n",
    "</aside>"
   ]
  },
  {
   "cell_type": "code",
   "execution_count": 12,
   "id": "6914d006",
   "metadata": {},
   "outputs": [
    {
     "name": "stdout",
     "output_type": "stream",
     "text": [
      "2\n",
      "2\n",
      "8\n"
     ]
    }
   ],
   "source": [
    "class Solution:\n",
    "    def missingNumber(self, nums: List[int]) -> int:\n",
    "        # solution1\n",
    "        nums = nums + list(range(0,len(nums)+1))\n",
    "        ans = 0\n",
    "        for i in nums:\n",
    "            ans ^= i\n",
    "        return ans\n",
    "\n",
    "        # solution2\n",
    "        # return (list(set(range(0,len(nums)+1)) - set(nums)) or [0])[0]\n",
    "\n",
    "        # solution3\n",
    "        # return sum(range(0,len(nums)+1)) -sum(nums)\n",
    "\n",
    "\n",
    "nums = [3,0,1]\n",
    "\n",
    "ob = Solution()\n",
    "print(ob.missingNumber(nums))\n",
    "print(ob.missingNumber([0,1]))\n",
    "print(ob.missingNumber([9,6,4,2,3,5,7,0,1]))"
   ]
  },
  {
   "cell_type": "code",
   "execution_count": null,
   "id": "d9266efb",
   "metadata": {},
   "outputs": [],
   "source": []
  },
  {
   "attachments": {},
   "cell_type": "markdown",
   "id": "5cd80747",
   "metadata": {},
   "source": [
    "<aside>\n",
    "\n",
    "**Question 4**\n",
    "\n",
    "Given an array of integers `nums` containing `n + 1` integers where each integer is in the range `[1, n]` inclusive.\n",
    "\n",
    "There is only **one repeated number** in `nums`, return *this repeated number*.\n",
    "\n",
    "You must solve the problem **without** modifying the array `nums` and uses only constant extra space.\n",
    "\n",
    "**Example 1:**\n",
    "\n",
    "```\n",
    "Input: nums = [1,3,4,2,2]\n",
    "Output: 2\n",
    "\n",
    "```\n",
    "\n",
    "**Example 2:**\n",
    "```\n",
    "Input: nums = [3,1,3,4,2]\n",
    "Output: 3\n",
    "\n",
    "```\n",
    "    \n",
    "</aside>"
   ]
  },
  {
   "cell_type": "code",
   "execution_count": 13,
   "id": "d7ebdcc1",
   "metadata": {},
   "outputs": [
    {
     "name": "stdout",
     "output_type": "stream",
     "text": [
      "2\n",
      "3\n"
     ]
    }
   ],
   "source": [
    "class Solution:\n",
    "    def findDuplicate(self, nums: List[int]) -> int:\n",
    "        hm = {}\n",
    "        for i, v in enumerate(nums):\n",
    "            if v not in hm:\n",
    "                hm[v] = 1\n",
    "            else:\n",
    "                hm[v] += 1\n",
    "        for key, value in hm.items():\n",
    "            if value > 1:\n",
    "                return key\n",
    "            \n",
    "nums = [1,3,4,2,2]\n",
    "\n",
    "ob = Solution()\n",
    "print(ob.findDuplicate(nums))\n",
    "print(ob.findDuplicate([3,1,3,4,2]))"
   ]
  },
  {
   "cell_type": "code",
   "execution_count": null,
   "id": "6211b1d7",
   "metadata": {},
   "outputs": [],
   "source": []
  },
  {
   "attachments": {},
   "cell_type": "markdown",
   "id": "90db9059",
   "metadata": {},
   "source": [
    "<aside>\n",
    "    \n",
    "**Question 5**\n",
    "\n",
    "Given two integer arrays `nums1` and `nums2`, return *an array of their intersection*. Each element in the result must be **unique** and you may return the result in **any order**.\n",
    "\n",
    "**Example 1:**\n",
    "\n",
    "```\n",
    "Input: nums1 = [1,2,2,1], nums2 = [2,2]\n",
    "Output: [2]\n",
    "\n",
    "```\n",
    "\n",
    "**Example 2:**\n",
    "```\n",
    "Input: nums1 = [4,9,5], nums2 = [9,4,9,8,4]\n",
    "Output: [9,4]\n",
    "Explanation: [4,9] is also accepted.\n",
    "\n",
    "```    \n",
    "\n",
    "</aside>"
   ]
  },
  {
   "cell_type": "code",
   "execution_count": 31,
   "id": "255d5e27",
   "metadata": {},
   "outputs": [
    {
     "name": "stdout",
     "output_type": "stream",
     "text": [
      "[2]\n",
      "[9, 4]\n"
     ]
    }
   ],
   "source": [
    "class Solution:\n",
    "    def intersection(self, nums1: List[int], nums2: List[int]) -> List[int]:\n",
    "        return set(nums1) & set(nums2)\n",
    "    \n",
    "nums1 = [1,2,2,1]\n",
    "nums2 = [2,2]\n",
    "\n",
    "ob = Solution()\n",
    "print(list(ob.intersection(nums1,nums2)))\n",
    "print(list(ob.intersection(nums1 = [4,9,5], nums2 = [9,4,9,8,4])))"
   ]
  },
  {
   "cell_type": "code",
   "execution_count": null,
   "id": "bd69a40d",
   "metadata": {},
   "outputs": [],
   "source": []
  },
  {
   "attachments": {},
   "cell_type": "markdown",
   "id": "e081cb66",
   "metadata": {},
   "source": [
    "<aside>\n",
    "    \n",
    "**Question 6**\n",
    "\n",
    "Suppose an array of length `n` sorted in ascending order is **rotated** between `1` and `n` times. For example, the array `nums = [0,1,2,4,5,6,7]` might become:\n",
    "\n",
    "- `[4,5,6,7,0,1,2]` if it was rotated `4` times.\n",
    "- `[0,1,2,4,5,6,7]` if it was rotated `7` times.\n",
    "\n",
    "Notice that **rotating** an array `[a[0], a[1], a[2], ..., a[n-1]]` 1 time results in the array `[a[n-1], a[0], a[1], a[2], ..., a[n-2]]`.\n",
    "\n",
    "Given the sorted rotated array `nums` of **unique** elements, return *the minimum element of this array*.\n",
    "\n",
    "You must write an algorithm that runs in `O(log n) time.`\n",
    "\n",
    "**Example 1:**\n",
    "\n",
    "```\n",
    "Input: nums = [3,4,5,1,2]\n",
    "Output: 1\n",
    "Explanation: The original array was [1,2,3,4,5] rotated 3 times.\n",
    "\n",
    "```\n",
    "\n",
    "**Example 2:**\n",
    "\n",
    "```\n",
    "Input: nums = [4,5,6,7,0,1,2]\n",
    "Output: 0\n",
    "Explanation: The original array was [0,1,2,4,5,6,7] and it was rotated 4 times.\n",
    "\n",
    "```\n",
    "\n",
    "**Example 3:**\n",
    "```\n",
    "Input: nums = [11,13,15,17]\n",
    "Output: 11\n",
    "Explanation: The original array was [11,13,15,17] and it was rotated 4 times.\n",
    "    \n",
    "```\n",
    "    \n",
    "</aside>"
   ]
  },
  {
   "cell_type": "code",
   "execution_count": 32,
   "id": "a9e090fb",
   "metadata": {},
   "outputs": [
    {
     "name": "stdout",
     "output_type": "stream",
     "text": [
      "1\n",
      "0\n",
      "11\n"
     ]
    }
   ],
   "source": [
    "class Solution:\n",
    "    def findMin(self, nums: List[int]) -> int:\n",
    "        low=0\n",
    "        high=len(nums)-1\n",
    "        res=nums[0]\n",
    "        while low<=high:\n",
    "            if nums[low]<nums[high]:\n",
    "                res=min(res,nums[low])\n",
    "                break\n",
    "            mid=(low+high)//2\n",
    "            res=min(res,nums[mid])\n",
    "            if nums[mid]>=nums[low]:\n",
    "                low=mid+1\n",
    "            else:\n",
    "                high=mid-1\n",
    "        return res\n",
    "\n",
    "ob = Solution()            \n",
    "print(ob.findMin(nums = [3,4,5,1,2]))                \n",
    "print(ob.findMin(nums = [4,5,6,7,0,1,2]))                \n",
    "print(ob.findMin(nums = [11,13,15,17]))                \n"
   ]
  },
  {
   "cell_type": "code",
   "execution_count": null,
   "id": "7a1cf451",
   "metadata": {},
   "outputs": [],
   "source": []
  },
  {
   "attachments": {},
   "cell_type": "markdown",
   "id": "26948072",
   "metadata": {},
   "source": [
    "<aside>\n",
    "    \n",
    "**Question 7**\n",
    "\n",
    "Given an array of integers `nums` sorted in non-decreasing order, find the starting and ending position of a given `target` value.\n",
    "\n",
    "If `target` is not found in the array, return `[-1, -1]`.\n",
    "\n",
    "You must write an algorithm with `O(log n)` runtime complexity.\n",
    "\n",
    "**Example 1:**\n",
    "\n",
    "```\n",
    "Input: nums = [5,7,7,8,8,10], target = 8\n",
    "Output: [3,4]\n",
    "\n",
    "```\n",
    "\n",
    "**Example 2:**\n",
    "\n",
    "```\n",
    "Input: nums = [5,7,7,8,8,10], target = 6\n",
    "Output: [-1,-1]\n",
    "\n",
    "```\n",
    "\n",
    "**Example 3:**\n",
    "```\n",
    "Input: nums = [], target = 0\n",
    "Output: [-1,-1]\n",
    "\n",
    "```\n",
    "    \n",
    "</aside>"
   ]
  },
  {
   "cell_type": "code",
   "execution_count": 33,
   "id": "a6b0f151",
   "metadata": {},
   "outputs": [
    {
     "name": "stdout",
     "output_type": "stream",
     "text": [
      "[3, 4]\n",
      "[-1, -1]\n",
      "[-1, -1]\n"
     ]
    }
   ],
   "source": [
    "class Solution:\n",
    "    def searchRange(self, nums: List[int], target: int) -> List[int]:\n",
    "        # Check if the list is empty\n",
    "        if not nums:\n",
    "            return [-1,-1]\n",
    "\n",
    "        # Initialize the left and right pointers\n",
    "        left=0\n",
    "        right= len(nums)-1\n",
    "        \n",
    "        while left<=right:\n",
    "            mid=left+(right-left+1)//2\n",
    "            \n",
    "            # If the middle element is the target\n",
    "            if nums[mid] == target:\n",
    "                start = end = mid\n",
    "                \n",
    "                # Find the leftmost index of the target\n",
    "                while start > 0 and nums[start - 1] == target:\n",
    "                    start -= 1\n",
    "\n",
    "                # Find the rightmost index of the target\n",
    "                while end < len(nums) - 1 and nums[end + 1] == target:\n",
    "                    end += 1\n",
    "                \n",
    "                return [start, end]\n",
    "                    \n",
    "            elif nums[mid]<target:\n",
    "                left=mid+1\n",
    "            else:\n",
    "                right=mid-1\n",
    "\n",
    "        # Return [-1, -1] if the target is not found\n",
    "        return [-1, -1]\n",
    "\n",
    "ob = Solution()\n",
    "print((ob.searchRange(nums = [5,7,7,8,8,10], target = 8)))\n",
    "print((ob.searchRange(nums = [5,7,7,8,8,10], target = 6)))\n",
    "print((ob.searchRange(nums = [], target = 0)))\n",
    "                "
   ]
  },
  {
   "cell_type": "code",
   "execution_count": null,
   "id": "b9d1e89c",
   "metadata": {},
   "outputs": [],
   "source": []
  },
  {
   "attachments": {},
   "cell_type": "markdown",
   "id": "e11d67d8",
   "metadata": {},
   "source": [
    "<aside>\n",
    "    \n",
    "**Question 8**\n",
    "\n",
    "Given two integer arrays `nums1` and `nums2`, return *an array of their intersection*. Each element in the result must appear as many times as it shows in both arrays and you may return the result in **any order**.\n",
    "\n",
    "**Example 1:**\n",
    "\n",
    "```\n",
    "Input: nums1 = [1,2,2,1], nums2 = [2,2]\n",
    "Output: [2,2]\n",
    "\n",
    "```\n",
    "\n",
    "**Example 2:**\n",
    "```\n",
    "Input: nums1 = [4,9,5], nums2 = [9,4,9,8,4]\n",
    "Output: [4,9]\n",
    "Explanation: [9,4] is also accepted.\n",
    "\n",
    "```\n",
    "    \n",
    "</aside>"
   ]
  },
  {
   "cell_type": "code",
   "execution_count": 34,
   "id": "9685c5fd",
   "metadata": {},
   "outputs": [
    {
     "name": "stdout",
     "output_type": "stream",
     "text": [
      "[2, 2]\n",
      "[9, 4]\n"
     ]
    }
   ],
   "source": [
    "class Solution:\n",
    "    def intersect(self, nums1: List[int], nums2: List[int]) -> List[int]:\n",
    "        hashMap,result = {},[]\n",
    "        for num in nums1:hashMap[num] = hashMap.get(num,0)+1\n",
    "        \n",
    "        for num in nums2:\n",
    "            if num in hashMap and hashMap[num] != 0:\n",
    "                result.append(num) \n",
    "                hashMap[num] -= 1\n",
    "\n",
    "        return result \n",
    "    \n",
    "ob = Solution()\n",
    "print(ob.intersect(nums1 = [1,2,2,1], nums2 = [2,2]))\n",
    "print(ob.intersect(nums1 = [4,9,5], nums2 = [9,4,9,8,4]))"
   ]
  },
  {
   "cell_type": "code",
   "execution_count": 35,
   "id": "ef34c6de",
   "metadata": {},
   "outputs": [
    {
     "data": {
      "text/plain": [
       "'/home/rocky/DSA_PPT/assignment'"
      ]
     },
     "execution_count": 35,
     "metadata": {},
     "output_type": "execute_result"
    }
   ],
   "source": [
    "pwd"
   ]
  },
  {
   "cell_type": "code",
   "execution_count": null,
   "id": "fda96cf3",
   "metadata": {},
   "outputs": [],
   "source": []
  }
 ],
 "metadata": {
  "kernelspec": {
   "display_name": "Python 3 (ipykernel)",
   "language": "python",
   "name": "python3"
  },
  "language_info": {
   "codemirror_mode": {
    "name": "ipython",
    "version": 3
   },
   "file_extension": ".py",
   "mimetype": "text/x-python",
   "name": "python",
   "nbconvert_exporter": "python",
   "pygments_lexer": "ipython3",
   "version": "3.10.6"
  }
 },
 "nbformat": 4,
 "nbformat_minor": 5
}
